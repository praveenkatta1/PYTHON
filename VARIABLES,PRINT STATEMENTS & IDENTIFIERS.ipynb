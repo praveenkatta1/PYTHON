{
 "cells": [
  {
   "cell_type": "markdown",
   "id": "a24e002e-302a-4337-88e0-16c620317b90",
   "metadata": {},
   "source": [
    "# VARIABLE"
   ]
  },
  {
   "cell_type": "markdown",
   "id": "c970bba0-596d-4098-bfc3-51a221a6781f",
   "metadata": {},
   "source": [
    "A VARIABLE IS A NAME THAT REFERS TO A MEMORY LOCATION WHERE A VALUE IS STORED."
   ]
  },
  {
   "cell_type": "markdown",
   "id": "c32acd68-66da-4eff-ae38-eb881ee264aa",
   "metadata": {},
   "source": [
    "SYNTAX"
   ]
  },
  {
   "cell_type": "markdown",
   "id": "0e710950-c629-4245-a9d4-ca085cf7f47a",
   "metadata": {},
   "source": [
    "VARIABLE_NAME=VALUE\n",
    "\n",
    "A=5\n",
    "\n",
    "VARIABLE ALSO CALLED AS OBJECT AND ALSO CALLED AS IDENTIFIER WHICH HELPS TO ASSIGN A VALUE.\n",
    "\n",
    "1.VALUE IDENTIFIER\n",
    "\n",
    "2.FUCTION IDENTIFIER\n",
    "\n",
    "3.CLASS IDENTIFIER\n",
    "\n",
    "4.MODULE IDENTIFIER\n",
    "\n",
    "VARIABLE NAME= VALUE BUT (VALUE!=VARIABLE)\n",
    "\n",
    "VARIABLES CAN STORE ANY TYPE OF DATA, INCLUDING NUMBERS, STRINGS, LISTS, DICTIONARIES, OBJECTS, ETC.\n",
    "\n",
    "VARIABLES ARE DYNAMIC, MEANING THEIR TYPE IS AUTOMATICALLY DETERMINED BY THE VALUE ASSIGNED TO THEM, AND THEY CAN CHANGE TYPE DURING EXECUTION.|"
   ]
  },
  {
   "cell_type": "markdown",
   "id": "8c872c9d-bc4b-48c6-bd66-7a285fd05be9",
   "metadata": {},
   "source": [
    "RULEWS OF VARIABLE"
   ]
  },
  {
   "cell_type": "markdown",
   "id": "71a66488-2641-4a04-a7dd-e8cfaac61a8f",
   "metadata": {},
   "source": [
    "# VAIRABLE IS A CASE SENSITIVE I.E EG : AGE, AGE, AND AGE ARE DIFFERENT VARIABLES.\n",
    "\n",
    "# MUST START WITH A LETTER I.E EG : (A-Z, A-Z) OR AN UNDERSCORE (_).\n",
    "\n",
    "# CAN CONTAIN LETTERS, DIGITS (0-9), AND UNDERSCORES, BUT CANNOT START WITH A DIGIT.\n",
    "\n",
    "# CANNOT BE A PYTHON KEYWORD I.E E.G : TRUE, FALSE, IF, FOR, CLASS, ETC.\n",
    "\n",
    "# VAIRABLE HAS NO NUMBER LENGTH LIMIT."
   ]
  },
  {
   "cell_type": "code",
   "execution_count": 7,
   "id": "10e994f3-992e-4c35-bd32-d716500eea56",
   "metadata": {},
   "outputs": [
    {
     "data": {
      "text/plain": [
       "'3.12.7 | packaged by Anaconda, Inc. | (main, Oct  4 2024, 13:17:27) [MSC v.1929 64 bit (AMD64)]'"
      ]
     },
     "execution_count": 7,
     "metadata": {},
     "output_type": "execute_result"
    }
   ],
   "source": [
    "# to know about the version we are using\n",
    "import sys\n",
    "sys.version"
   ]
  },
  {
   "cell_type": "code",
   "execution_count": 9,
   "id": "36a66575-46db-4f9a-aa29-3c5f93411d90",
   "metadata": {},
   "outputs": [
    {
     "data": {
      "text/plain": [
       "['False',\n",
       " 'None',\n",
       " 'True',\n",
       " 'and',\n",
       " 'as',\n",
       " 'assert',\n",
       " 'async',\n",
       " 'await',\n",
       " 'break',\n",
       " 'class',\n",
       " 'continue',\n",
       " 'def',\n",
       " 'del',\n",
       " 'elif',\n",
       " 'else',\n",
       " 'except',\n",
       " 'finally',\n",
       " 'for',\n",
       " 'from',\n",
       " 'global',\n",
       " 'if',\n",
       " 'import',\n",
       " 'in',\n",
       " 'is',\n",
       " 'lambda',\n",
       " 'nonlocal',\n",
       " 'not',\n",
       " 'or',\n",
       " 'pass',\n",
       " 'raise',\n",
       " 'return',\n",
       " 'try',\n",
       " 'while',\n",
       " 'with',\n",
       " 'yield']"
      ]
     },
     "execution_count": 9,
     "metadata": {},
     "output_type": "execute_result"
    }
   ],
   "source": [
    "# toknow keywords in python\n",
    "import keyword\n",
    "keyword.kwlist"
   ]
  },
  {
   "cell_type": "code",
   "execution_count": 19,
   "id": "4751bc08-e750-4210-ae06-538dfb91bff4",
   "metadata": {},
   "outputs": [
    {
     "data": {
      "text/plain": [
       "35"
      ]
     },
     "execution_count": 19,
     "metadata": {},
     "output_type": "execute_result"
    }
   ],
   "source": [
    "len(keyword.kwlist)"
   ]
  },
  {
   "cell_type": "code",
   "execution_count": 21,
   "id": "2cd94771-867b-44f7-9836-da23dd4047d6",
   "metadata": {},
   "outputs": [],
   "source": [
    "a=10"
   ]
  },
  {
   "cell_type": "code",
   "execution_count": 23,
   "id": "1e47e81c-ebac-48ca-9fa8-48ad00d0bb5a",
   "metadata": {},
   "outputs": [
    {
     "data": {
      "text/plain": [
       "10"
      ]
     },
     "execution_count": 23,
     "metadata": {},
     "output_type": "execute_result"
    }
   ],
   "source": [
    "a"
   ]
  },
  {
   "cell_type": "code",
   "execution_count": 29,
   "id": "9ae1d2c8-65cd-4d30-a3f6-8377bc5eeb70",
   "metadata": {},
   "outputs": [
    {
     "data": {
      "text/plain": [
       "30"
      ]
     },
     "execution_count": 29,
     "metadata": {},
     "output_type": "execute_result"
    }
   ],
   "source": [
    "a1,a2=20,30 # when we don't use print statement. only last one we typed variable value only printed \n",
    "a1\n",
    "a2"
   ]
  },
  {
   "cell_type": "code",
   "execution_count": 31,
   "id": "5d83260e-bfc1-413f-ac83-394d23e3b5aa",
   "metadata": {},
   "outputs": [
    {
     "name": "stdout",
     "output_type": "stream",
     "text": [
      "10\n",
      "30\n",
      "20\n",
      "35\n"
     ]
    }
   ],
   "source": [
    "# if we need to print both variable values at a time we need use print statement\n",
    "print(a)\n",
    "print(a2)\n",
    "print(a1)\n",
    "print(len(keyword.kwlist))"
   ]
  },
  {
   "cell_type": "markdown",
   "id": "c58b566e-e4da-4aa8-9d59-27c13b3b8d1e",
   "metadata": {},
   "source": [
    "# PRINT RESULT WITH STRING"
   ]
  },
  {
   "cell_type": "code",
   "execution_count": 35,
   "id": "066c427a-a499-42b7-99d6-ed7c1e2316e4",
   "metadata": {},
   "outputs": [
    {
     "name": "stdout",
     "output_type": "stream",
     "text": [
      "the addition of  45 and 56 is 101\n"
     ]
    }
   ],
   "source": [
    "a=45\n",
    "b=56\n",
    "c=a+b\n",
    "print(\"the addition of \",a,'and',b,\"is\",c)"
   ]
  },
  {
   "cell_type": "code",
   "execution_count": 37,
   "id": "83603ef4-c0a3-4bb6-9647-a4d4f0c7e7d1",
   "metadata": {},
   "outputs": [],
   "source": [
    "age=23\n",
    "name=\"KATTA SRI SAI PRAVEEN\"\n",
    "city='vijayawada'\n"
   ]
  },
  {
   "cell_type": "code",
   "execution_count": 39,
   "id": "968a0dbd-89a8-465d-85ba-bdc1f0d56cfa",
   "metadata": {},
   "outputs": [
    {
     "name": "stdout",
     "output_type": "stream",
     "text": [
      "My name is KATTA SRI SAI PRAVEEN and i am 23 years old form vijayawada\n"
     ]
    }
   ],
   "source": [
    "print('My name is',name,'and i am',age,'years old form',city) "
   ]
  },
  {
   "cell_type": "code",
   "execution_count": 41,
   "id": "6dec6f35-a573-4c0a-bd3d-102c23c4e5ac",
   "metadata": {},
   "outputs": [
    {
     "name": "stdout",
     "output_type": "stream",
     "text": [
      "The addition of 45 and 56 is= 101\n"
     ]
    }
   ],
   "source": [
    "a=45\n",
    "b=56\n",
    "c=a+b\n",
    "print('The addition of {} and {} is= {}'.format(a,b,c))"
   ]
  },
  {
   "cell_type": "code",
   "execution_count": 45,
   "id": "b0eb99fe-42a2-48b5-b1d2-2b37d8406668",
   "metadata": {},
   "outputs": [],
   "source": [
    "age=23\n",
    "name=\"KATTA SRI SAI PRAVEEN\"\n",
    "city='vijayawada'"
   ]
  },
  {
   "cell_type": "code",
   "execution_count": 47,
   "id": "712d8abe-08c8-495e-ada2-55512510450a",
   "metadata": {},
   "outputs": [
    {
     "name": "stdout",
     "output_type": "stream",
     "text": [
      "hello my name is KATTA SRI SAI PRAVEEN, and i am 23 years old from vijayawada \n"
     ]
    }
   ],
   "source": [
    "print('hello my name is {}, and i am {} years old from {} '.format(name,age,city))\n"
   ]
  },
  {
   "cell_type": "code",
   "execution_count": 50,
   "id": "dbacf831-aed7-4e0e-8bb2-e75f5cf468e7",
   "metadata": {},
   "outputs": [
    {
     "name": "stdout",
     "output_type": "stream",
     "text": [
      "The avrage of 30, 825, and 433 is= 429.3333333333333 or 429.33\n"
     ]
    }
   ],
   "source": [
    "a=30\n",
    "b=825 \n",
    "c=433 \n",
    "avg=(a+b+c)/3 # or we can use avg=round(num1+num2+num3)/3,2) \n",
    "avg1=round((a+b+c)/3,2) \n",
    "# The avrage of a,b,c is = avg \n",
    "print('The avrage of {}, {}, and {} is= {} or {}'.format(a,b,c, \n",
    "avg,avg1)) # here we can use round(avg,2) also "
   ]
  },
  {
   "cell_type": "code",
   "execution_count": 54,
   "id": "a59cb4c6-1b13-4c50-bd94-600f0874fc74",
   "metadata": {},
   "outputs": [
    {
     "data": {
      "text/plain": [
       "429.33"
      ]
     },
     "execution_count": 54,
     "metadata": {},
     "output_type": "execute_result"
    }
   ],
   "source": [
    "round(avg,2)"
   ]
  },
  {
   "cell_type": "markdown",
   "id": "309f07cf-f287-418b-b853-f6099ca2888e",
   "metadata": {},
   "source": []
  },
  {
   "cell_type": "markdown",
   "id": "ddd9d04e-6eb8-40e0-8b66-abebfff41eac",
   "metadata": {},
   "source": [
    "More short format meythod(f string method) \n",
    "\n",
    "variable should be in curly braces  \n",
    "\n",
    "and write everything inside quots ''  \n",
    "\n",
    "at starting simpaly add f  \n"
   ]
  },
  {
   "cell_type": "code",
   "execution_count": 57,
   "id": "73cc3d59-4ff7-4037-b0cd-615e724cb769",
   "metadata": {},
   "outputs": [
    {
     "name": "stdout",
     "output_type": "stream",
     "text": [
      "The addition of 45 and 56 is= 101\n"
     ]
    }
   ],
   "source": [
    "a=45\n",
    "b=56\n",
    "c=a+b\n",
    "print(f'The addition of {a} and {b} is= {c}')"
   ]
  },
  {
   "cell_type": "code",
   "execution_count": 63,
   "id": "41ba1580-611d-4392-9ab9-60339a72935c",
   "metadata": {},
   "outputs": [
    {
     "name": "stdout",
     "output_type": "stream",
     "text": [
      "hello my name is KATTA SRI SAI PRAVEEN, and i am 23 year old, from vijayawada.\n"
     ]
    }
   ],
   "source": [
    "age=23\n",
    "name=\"KATTA SRI SAI PRAVEEN\"\n",
    "city='vijayawada'\n",
    "print(f'hello my name is {name}, and i am {age} year old, from {city}.') "
   ]
  },
  {
   "cell_type": "code",
   "execution_count": 65,
   "id": "ab9c5fbd-8f4f-438e-a809-98918739af21",
   "metadata": {},
   "outputs": [
    {
     "name": "stdout",
     "output_type": "stream",
     "text": [
      "My name is KATTA SRI SAI PRAVEEN and i am 23 years old form vijayawada\n",
      "hello my name is KATTA SRI SAI PRAVEEN, and i am 23 years old from vijayawada \n",
      "hello my name is KATTA SRI SAI PRAVEEN, and i am 23 year old, from vijayawada.\n"
     ]
    }
   ],
   "source": [
    "age=23\n",
    "name=\"KATTA SRI SAI PRAVEEN\"\n",
    "city='vijayawada'\n",
    "print('My name is',name,'and i am',age,'years old form',city) \n",
    "print('hello my name is {}, and i am {} years old from {} '.format(name,age,city))\n",
    "print(f'hello my name is {name}, and i am {age} year old, from {city}.') "
   ]
  },
  {
   "cell_type": "markdown",
   "id": "e278fb6c-b3f6-4f22-8340-70016771677e",
   "metadata": {},
   "source": []
  },
  {
   "cell_type": "markdown",
   "id": "9e3c4798-7078-483a-b62e-c469472e3dfe",
   "metadata": {},
   "source": [
    "END STATEMENT"
   ]
  },
  {
   "cell_type": "markdown",
   "id": "de3f0bc5-f840-417c-bad0-0e01abe645aa",
   "metadata": {},
   "source": [
    "We will use end statement that joint line from end of one string to starting of other \n",
    "string"
   ]
  },
  {
   "cell_type": "code",
   "execution_count": 74,
   "id": "86fd7b77-640a-4131-869d-6e90b83d8ff9",
   "metadata": {},
   "outputs": [
    {
     "name": "stdout",
     "output_type": "stream",
     "text": [
      "sri sai\n",
      "praveen katta\n"
     ]
    }
   ],
   "source": [
    "print('sri sai')\n",
    "print('praveen katta')"
   ]
  },
  {
   "cell_type": "code",
   "execution_count": 76,
   "id": "a4893529-8690-4ae8-a65f-b0a133d4be4c",
   "metadata": {},
   "outputs": [
    {
     "name": "stdout",
     "output_type": "stream",
     "text": [
      "sri sai praveen katta\n"
     ]
    }
   ],
   "source": [
    "print('sri sai', end=' ') # 1st statement \n",
    "print('praveen katta') # 2nd statement "
   ]
  },
  {
   "cell_type": "code",
   "execution_count": null,
   "id": "4ba66c60-193f-4bd1-a78d-454d8f59329a",
   "metadata": {},
   "outputs": [],
   "source": []
  },
  {
   "cell_type": "code",
   "execution_count": null,
   "id": "30500128-bf06-4252-ac28-b3bbff833167",
   "metadata": {},
   "outputs": [],
   "source": [
    "STRING SEPARATOR"
   ]
  },
  {
   "cell_type": "markdown",
   "id": "f78fe794-8f2e-4b18-b8be-b1f924649b17",
   "metadata": {},
   "source": [
    "here one print statement only we use \n",
    " \n",
    "insisde one print statement we have multipal values \n",
    " \n",
    "we want to seperate these multipal values with anything"
   ]
  },
  {
   "cell_type": "code",
   "execution_count": 80,
   "id": "5c7c3daa-2498-4e10-bee7-b6d844ea4034",
   "metadata": {},
   "outputs": [
    {
     "name": "stdout",
     "output_type": "stream",
     "text": [
      "katta___sri___sai___praveen\n"
     ]
    }
   ],
   "source": [
    "print('katta','sri','sai','praveen',sep='___') \n"
   ]
  },
  {
   "cell_type": "code",
   "execution_count": 86,
   "id": "761399a3-ac8d-4f34-919b-9789dc84fbf9",
   "metadata": {},
   "outputs": [
    {
     "name": "stdout",
     "output_type": "stream",
     "text": [
      "kattasrisaipraveen@gmail.com\n"
     ]
    }
   ],
   "source": [
    "print('kattasrisaipraveen','gmail.com',sep='@') \n"
   ]
  },
  {
   "cell_type": "code",
   "execution_count": 88,
   "id": "11581d92-1fae-49ee-aadb-a918ebb6c262",
   "metadata": {},
   "outputs": [
    {
     "name": "stdout",
     "output_type": "stream",
     "text": [
      "sri sai  praveen katta.\n"
     ]
    }
   ],
   "source": [
    "print('sri sai ','praveen',end=' ') \n",
    "print('katta','.',sep='') \n"
   ]
  },
  {
   "cell_type": "code",
   "execution_count": null,
   "id": "5fdbc596-503e-4516-80ed-8e4234842a09",
   "metadata": {},
   "outputs": [],
   "source": []
  },
  {
   "cell_type": "markdown",
   "id": "610c6345-9da8-4175-a305-f63109bf7db6",
   "metadata": {},
   "source": [
    "# USING VARIABLES IN EXPRESSIONS(+,-,*,/,%):"
   ]
  },
  {
   "cell_type": "code",
   "execution_count": 105,
   "id": "3e911902-65be-459d-bb7e-02341353b175",
   "metadata": {},
   "outputs": [
    {
     "name": "stdout",
     "output_type": "stream",
     "text": [
      "11\n",
      "78\n",
      "605\n",
      "3\n",
      "3.4444444444444446\n"
     ]
    },
    {
     "data": {
      "text/plain": [
       "4.2"
      ]
     },
     "execution_count": 105,
     "metadata": {},
     "output_type": "execute_result"
    }
   ],
   "source": [
    "b=8\n",
    "b1=3\n",
    "result=b+b1\n",
    "print(result)\n",
    "11\n",
    "print(a2+b1+a)\n",
    "247\n",
    "print(b-b1+a1*a2)\n",
    "print(b1%b)\n",
    "3\n",
    "print(a1/a+b1)\n",
    "4.2"
   ]
  },
  {
   "cell_type": "code",
   "execution_count": null,
   "id": "e5ce5884-f922-4be1-a997-7c3d9e58cbf4",
   "metadata": {},
   "outputs": [],
   "source": []
  },
  {
   "cell_type": "markdown",
   "id": "6a62d672-6edc-4fb1-af32-79b3ae24ed9c",
   "metadata": {},
   "source": [
    "CHANGING THE VALUE OF A VARIABLE:"
   ]
  },
  {
   "cell_type": "code",
   "execution_count": 107,
   "id": "3d876f0a-9b65-4940-9e12-c43743ad81eb",
   "metadata": {},
   "outputs": [
    {
     "name": "stdout",
     "output_type": "stream",
     "text": [
      "300\n"
     ]
    }
   ],
   "source": [
    "cost=300 # inital value \n",
    "print(cost)"
   ]
  },
  {
   "cell_type": "code",
   "execution_count": 109,
   "id": "c3b86448-a3cb-4124-a1ef-0cb16c252c0a",
   "metadata": {},
   "outputs": [
    {
     "name": "stdout",
     "output_type": "stream",
     "text": [
      "900\n"
     ]
    }
   ],
   "source": [
    "cost=900 # changing value\n",
    "print(cost)"
   ]
  },
  {
   "cell_type": "code",
   "execution_count": 111,
   "id": "1955708d-bb27-4ca8-8f52-7c7bada87a65",
   "metadata": {},
   "outputs": [
    {
     "data": {
      "text/plain": [
       "900"
      ]
     },
     "execution_count": 111,
     "metadata": {},
     "output_type": "execute_result"
    }
   ],
   "source": [
    "cost # final value"
   ]
  },
  {
   "cell_type": "code",
   "execution_count": 113,
   "id": "a9791203-1cb6-48f1-904b-e5d11623bc97",
   "metadata": {},
   "outputs": [
    {
     "data": {
      "text/plain": [
       "948"
      ]
     },
     "execution_count": 113,
     "metadata": {},
     "output_type": "execute_result"
    }
   ],
   "source": [
    "cost+a+b1"
   ]
  },
  {
   "cell_type": "code",
   "execution_count": 115,
   "id": "666defa6-4ff9-4ecd-a992-bd15dedc009c",
   "metadata": {},
   "outputs": [
    {
     "data": {
      "text/plain": [
       "-817"
      ]
     },
     "execution_count": 115,
     "metadata": {},
     "output_type": "execute_result"
    }
   ],
   "source": [
    "a+b+a2-cost"
   ]
  },
  {
   "cell_type": "code",
   "execution_count": null,
   "id": "29ed990e-e0fb-41b2-98a0-6fa0697554db",
   "metadata": {},
   "outputs": [],
   "source": []
  },
  {
   "cell_type": "markdown",
   "id": "3e8780c2-c50c-4c8b-a0a2-948e645d92ed",
   "metadata": {},
   "source": [
    "CONCATENATING STRINGS"
   ]
  },
  {
   "cell_type": "code",
   "execution_count": 119,
   "id": "e52bcf4d-b3b1-412c-a115-782772a4a99b",
   "metadata": {},
   "outputs": [],
   "source": [
    "first_name=\"SRI SAI PRAVEEN\"\n",
    "last_name=\"KATTA\""
   ]
  },
  {
   "cell_type": "code",
   "execution_count": 121,
   "id": "eb0c55d0-3921-4985-92ee-830a58137d2f",
   "metadata": {},
   "outputs": [],
   "source": [
    "full_name=first_name+\" \"+last_name"
   ]
  },
  {
   "cell_type": "code",
   "execution_count": 123,
   "id": "ac7b4107-2c00-49f0-8046-03e01f44daf3",
   "metadata": {},
   "outputs": [
    {
     "name": "stdout",
     "output_type": "stream",
     "text": [
      "SRI SAI PRAVEEN KATTA\n"
     ]
    }
   ],
   "source": [
    "print(full_name)"
   ]
  },
  {
   "cell_type": "code",
   "execution_count": 125,
   "id": "81546103-f83a-4495-be2b-f4ceef1dc574",
   "metadata": {},
   "outputs": [],
   "source": [
    "k='parvathi katta'\n",
    "k1='sri ram charan katta'\n",
    "k2='sri sai praveen katta'\n",
    "k3='venkayamma'\n",
    "k_family=k+\" \"+k1+\" \"+k2+\" \"+k3"
   ]
  },
  {
   "cell_type": "code",
   "execution_count": 127,
   "id": "c89cb7b3-69f3-4af0-95fd-fc98cdba038e",
   "metadata": {},
   "outputs": [
    {
     "name": "stdout",
     "output_type": "stream",
     "text": [
      "parvathi katta sri ram charan katta sri sai praveen katta venkayamma\n"
     ]
    }
   ],
   "source": [
    "print(k_family)"
   ]
  },
  {
   "cell_type": "code",
   "execution_count": 129,
   "id": "321bc94b-2d4c-44d6-a1b2-2e9050fc55d4",
   "metadata": {},
   "outputs": [
    {
     "ename": "TypeError",
     "evalue": "can't multiply sequence by non-int of type 'str'",
     "output_type": "error",
     "traceback": [
      "\u001b[1;31m---------------------------------------------------------------------------\u001b[0m",
      "\u001b[1;31mTypeError\u001b[0m                                 Traceback (most recent call last)",
      "Cell \u001b[1;32mIn[129], line 1\u001b[0m\n\u001b[1;32m----> 1\u001b[0m \u001b[38;5;28mprint\u001b[39m(k\u001b[38;5;241m+\u001b[39mk1\u001b[38;5;241m-\u001b[39mk2\u001b[38;5;241m*\u001b[39mk3)\n",
      "\u001b[1;31mTypeError\u001b[0m: can't multiply sequence by non-int of type 'str'"
     ]
    }
   ],
   "source": [
    "print(k+k1-k2*k3)"
   ]
  },
  {
   "cell_type": "code",
   "execution_count": null,
   "id": "02634aac-a3a3-417a-9a04-a9c330f390c1",
   "metadata": {},
   "outputs": [],
   "source": []
  },
  {
   "cell_type": "code",
   "execution_count": null,
   "id": "70369800-9802-4e11-88bf-0dd2990daaae",
   "metadata": {},
   "outputs": [],
   "source": [
    "USING VARIABLE IN A CALCULATION"
   ]
  },
  {
   "cell_type": "code",
   "execution_count": 148,
   "id": "7116b2c0-e278-4532-a4e6-66aff42df9e7",
   "metadata": {},
   "outputs": [],
   "source": [
    "side=123 # assigning values to a varaiable\n",
    "side1=143"
   ]
  },
  {
   "cell_type": "code",
   "execution_count": 150,
   "id": "e7f849f9-dd85-4f35-9371-f20fb59ae130",
   "metadata": {},
   "outputs": [],
   "source": [
    "# calculating the area of a square\n",
    "area=side*side1"
   ]
  },
  {
   "cell_type": "code",
   "execution_count": 152,
   "id": "b3924cb2-c9d6-4133-b37b-44ff58f12740",
   "metadata": {},
   "outputs": [
    {
     "name": "stdout",
     "output_type": "stream",
     "text": [
      "17589\n"
     ]
    }
   ],
   "source": [
    "print(area)"
   ]
  },
  {
   "cell_type": "code",
   "execution_count": 162,
   "id": "637e366f-fb52-4005-b356-46a26396c8e8",
   "metadata": {},
   "outputs": [],
   "source": [
    "a=30\n",
    "b=25"
   ]
  },
  {
   "cell_type": "code",
   "execution_count": 168,
   "id": "c3d2afbf-bdb4-46e8-9e2a-6f36e4a84190",
   "metadata": {},
   "outputs": [
    {
     "name": "stdout",
     "output_type": "stream",
     "text": [
      "375.0\n"
     ]
    }
   ],
   "source": [
    "area2=1/2* a*b\n",
    "print(area2)"
   ]
  },
  {
   "cell_type": "code",
   "execution_count": 170,
   "id": "35ff7216-925a-4445-8e96-3f9d43b6d2ae",
   "metadata": {},
   "outputs": [
    {
     "name": "stdout",
     "output_type": "stream",
     "text": [
      "750.0\n"
     ]
    }
   ],
   "source": [
    "print(area+area2)"
   ]
  },
  {
   "cell_type": "code",
   "execution_count": 172,
   "id": "9aae0156-119c-44d1-8f24-a450099f47e3",
   "metadata": {},
   "outputs": [
    {
     "data": {
      "text/plain": [
       "140625.0"
      ]
     },
     "execution_count": 172,
     "metadata": {},
     "output_type": "execute_result"
    }
   ],
   "source": [
    "area*area2"
   ]
  },
  {
   "cell_type": "code",
   "execution_count": 174,
   "id": "aa4ac4f9-1fa8-49c2-805c-333ccfdc54bb",
   "metadata": {},
   "outputs": [
    {
     "data": {
      "text/plain": [
       "0.0"
      ]
     },
     "execution_count": 174,
     "metadata": {},
     "output_type": "execute_result"
    }
   ],
   "source": [
    "area%area2"
   ]
  },
  {
   "cell_type": "raw",
   "id": "c608cde2-7593-4b1e-9e66-d9fb19333524",
   "metadata": {},
   "source": []
  },
  {
   "cell_type": "markdown",
   "id": "04834fa1-c852-4db6-8948-72687334a78c",
   "metadata": {},
   "source": [
    "# FUNCTION IDENTIFIER"
   ]
  },
  {
   "cell_type": "code",
   "execution_count": 177,
   "id": "df388fa7-23ab-414b-bcb8-d2694ed1f16b",
   "metadata": {},
   "outputs": [
    {
     "name": "stdout",
     "output_type": "stream",
     "text": [
      "hello,praveen!\n"
     ]
    }
   ],
   "source": [
    "def greet(name):  # greet is valid the function identifier \n",
    "    print(f\"hello,{name}!\")\n",
    "greet(\"praveen\")    \n"
   ]
  },
  {
   "cell_type": "code",
   "execution_count": 179,
   "id": "cafbfbf7-d8a6-4ae4-84f9-446f73682c11",
   "metadata": {},
   "outputs": [
    {
     "ename": "SyntaxError",
     "evalue": "'return' outside function (1330859038.py, line 3)",
     "output_type": "error",
     "traceback": [
      "\u001b[1;36m  Cell \u001b[1;32mIn[179], line 3\u001b[1;36m\u001b[0m\n\u001b[1;33m    return(\"katta\")\u001b[0m\n\u001b[1;37m    ^\u001b[0m\n\u001b[1;31mSyntaxError\u001b[0m\u001b[1;31m:\u001b[0m 'return' outside function\n"
     ]
    }
   ],
   "source": [
    "def greet(name):  # greet is valid function identifier so we want use only greet because we craeted greet function \n",
    "    print(f\"hello,{name}!\")\n",
    "return(\"katta\")  "
   ]
  },
  {
   "cell_type": "code",
   "execution_count": null,
   "id": "fad628f9-8252-4ee2-8417-53a4b2f26b4c",
   "metadata": {},
   "outputs": [],
   "source": []
  },
  {
   "cell_type": "markdown",
   "id": "0692f936-826f-4d27-ba80-a337ed4b9a0c",
   "metadata": {},
   "source": [
    " # CLASS IDENTIFIER"
   ]
  },
  {
   "cell_type": "code",
   "execution_count": 186,
   "id": "291deed0-d46e-4947-9c32-ec31960cc495",
   "metadata": {},
   "outputs": [],
   "source": [
    "class tommy:\n",
    "    def __init__(born,paws,color):\n",
    "        born.paws=born\n",
    "        born.color=color\n",
    "my_tommy=tommy(\"3\",\"apple\") "
   ]
  },
  {
   "cell_type": "code",
   "execution_count": null,
   "id": "99a94696-df7f-4976-a515-dfa85e9d22e0",
   "metadata": {},
   "outputs": [],
   "source": []
  },
  {
   "cell_type": "markdown",
   "id": "45c7a34d-2683-4a86-a91f-9528a73fffc3",
   "metadata": {},
   "source": [
    "# MODULE IDENTIFIER"
   ]
  },
  {
   "cell_type": "code",
   "execution_count": 189,
   "id": "162eb8f1-e14e-4ecb-94ca-a83e003769d5",
   "metadata": {},
   "outputs": [
    {
     "name": "stdout",
     "output_type": "stream",
     "text": [
      "3.141592653589793\n"
     ]
    }
   ],
   "source": [
    "import math\n",
    "print(math.pi)"
   ]
  },
  {
   "cell_type": "code",
   "execution_count": null,
   "id": "cbac62bf-6e89-4d1b-989c-3fa11b5e00b8",
   "metadata": {},
   "outputs": [],
   "source": []
  }
 ],
 "metadata": {
  "kernelspec": {
   "display_name": "Python [conda env:base] *",
   "language": "python",
   "name": "conda-base-py"
  },
  "language_info": {
   "codemirror_mode": {
    "name": "ipython",
    "version": 3
   },
   "file_extension": ".py",
   "mimetype": "text/x-python",
   "name": "python",
   "nbconvert_exporter": "python",
   "pygments_lexer": "ipython3",
   "version": "3.12.7"
  }
 },
 "nbformat": 4,
 "nbformat_minor": 5
}
