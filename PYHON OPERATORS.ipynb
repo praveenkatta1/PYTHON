{
 "cells": [
  {
   "cell_type": "markdown",
   "id": "4857dc64-e75b-499f-abab-19819507b847",
   "metadata": {},
   "source": [
    "# OPERATORS"
   ]
  },
  {
   "cell_type": "markdown",
   "id": "199fc5db-1cc0-40dc-863b-5a159e524614",
   "metadata": {},
   "source": [
    "1. ARTHEMETIC OPERATORS\n",
    "2. ASSIGNMENT OPERATORS\n",
    "3. UNNARY OPERATORS\n",
    "4. RELATIONAL OPERATORS\n",
    "5. LOGICAL OPERATORS\n"
   ]
  },
  {
   "cell_type": "markdown",
   "id": "c57a22e0-9584-43a0-9d73-3929da55056d",
   "metadata": {},
   "source": [
    "# ARTHEMETIC OPEATORS (+,-,*,/,%,//,**,^)"
   ]
  },
  {
   "cell_type": "code",
   "execution_count": 29,
   "id": "f11361de-41d4-452f-a164-ce8ee8a1920d",
   "metadata": {},
   "outputs": [],
   "source": [
    "x=20\n",
    "y=45"
   ]
  },
  {
   "cell_type": "code",
   "execution_count": 31,
   "id": "09186778-4270-48cf-83c9-b7bfb4af1018",
   "metadata": {},
   "outputs": [
    {
     "data": {
      "text/plain": [
       "65"
      ]
     },
     "execution_count": 31,
     "metadata": {},
     "output_type": "execute_result"
    }
   ],
   "source": [
    "x+y"
   ]
  },
  {
   "cell_type": "code",
   "execution_count": 33,
   "id": "0d0cdb1e-8a1a-496f-91af-98fa49e1e105",
   "metadata": {},
   "outputs": [
    {
     "data": {
      "text/plain": [
       "-25"
      ]
     },
     "execution_count": 33,
     "metadata": {},
     "output_type": "execute_result"
    }
   ],
   "source": [
    "x-y"
   ]
  },
  {
   "cell_type": "code",
   "execution_count": 35,
   "id": "d323b5cf-2d9d-4916-8f8b-069ef767bfca",
   "metadata": {},
   "outputs": [
    {
     "data": {
      "text/plain": [
       "900"
      ]
     },
     "execution_count": 35,
     "metadata": {},
     "output_type": "execute_result"
    }
   ],
   "source": [
    "x*y"
   ]
  },
  {
   "cell_type": "code",
   "execution_count": 37,
   "id": "e515adb0-e0dd-4e9b-b63b-3283b1fddb79",
   "metadata": {},
   "outputs": [
    {
     "data": {
      "text/plain": [
       "0.4444444444444444"
      ]
     },
     "execution_count": 37,
     "metadata": {},
     "output_type": "execute_result"
    }
   ],
   "source": [
    "x/y"
   ]
  },
  {
   "cell_type": "code",
   "execution_count": 39,
   "id": "4c25b4fd-01da-46ab-ac96-ae5708eb5b8a",
   "metadata": {},
   "outputs": [
    {
     "data": {
      "text/plain": [
       "20"
      ]
     },
     "execution_count": 39,
     "metadata": {},
     "output_type": "execute_result"
    }
   ],
   "source": [
    "x%y"
   ]
  },
  {
   "cell_type": "code",
   "execution_count": 41,
   "id": "d7da6630-4c06-4bd2-a40e-ff490e77101e",
   "metadata": {},
   "outputs": [
    {
     "ename": "SyntaxError",
     "evalue": "invalid syntax (1244032813.py, line 1)",
     "output_type": "error",
     "traceback": [
      "\u001b[1;36m  Cell \u001b[1;32mIn[41], line 1\u001b[1;36m\u001b[0m\n\u001b[1;33m    x%%y\u001b[0m\n\u001b[1;37m      ^\u001b[0m\n\u001b[1;31mSyntaxError\u001b[0m\u001b[1;31m:\u001b[0m invalid syntax\n"
     ]
    }
   ],
   "source": [
    "x%%y"
   ]
  },
  {
   "cell_type": "code",
   "execution_count": 44,
   "id": "b40049f0-5e08-4abf-a43d-66dd19510f29",
   "metadata": {},
   "outputs": [
    {
     "data": {
      "text/plain": [
       "2"
      ]
     },
     "execution_count": 44,
     "metadata": {},
     "output_type": "execute_result"
    }
   ],
   "source": [
    "y//x"
   ]
  },
  {
   "cell_type": "code",
   "execution_count": 46,
   "id": "fc81d6e7-021c-4874-b452-9d39c62da3f7",
   "metadata": {},
   "outputs": [
    {
     "data": {
      "text/plain": [
       "2.25"
      ]
     },
     "execution_count": 46,
     "metadata": {},
     "output_type": "execute_result"
    }
   ],
   "source": [
    "y/x"
   ]
  },
  {
   "cell_type": "code",
   "execution_count": 48,
   "id": "74ad3769-7eb8-4640-80ad-0c90650ba331",
   "metadata": {},
   "outputs": [
    {
     "data": {
      "text/plain": [
       "35184372088832000000000000000000000000000000000000000000000"
      ]
     },
     "execution_count": 48,
     "metadata": {},
     "output_type": "execute_result"
    }
   ],
   "source": [
    "x**y"
   ]
  },
  {
   "cell_type": "code",
   "execution_count": 50,
   "id": "4e33495a-4187-4576-b2a4-91599d586264",
   "metadata": {},
   "outputs": [
    {
     "data": {
      "text/plain": [
       "22"
      ]
     },
     "execution_count": 50,
     "metadata": {},
     "output_type": "execute_result"
    }
   ],
   "source": [
    "x^2"
   ]
  },
  {
   "cell_type": "code",
   "execution_count": 52,
   "id": "acf340c9-e3c2-4456-9654-6929ebc12833",
   "metadata": {},
   "outputs": [
    {
     "data": {
      "text/plain": [
       "57"
      ]
     },
     "execution_count": 52,
     "metadata": {},
     "output_type": "execute_result"
    }
   ],
   "source": [
    "x^y"
   ]
  },
  {
   "cell_type": "code",
   "execution_count": null,
   "id": "5c6191c8-8222-4e81-a3f9-b885e419366d",
   "metadata": {},
   "outputs": [],
   "source": []
  },
  {
   "cell_type": "markdown",
   "id": "fdea8c5c-f499-44f4-803c-e5aac1b9c092",
   "metadata": {},
   "source": [
    "# ASSIGMENT OPERATOR"
   ]
  },
  {
   "cell_type": "code",
   "execution_count": 126,
   "id": "ac214a47-ad1e-4df1-8618-c501df2fc227",
   "metadata": {},
   "outputs": [
    {
     "data": {
      "text/plain": [
       "20"
      ]
     },
     "execution_count": 126,
     "metadata": {},
     "output_type": "execute_result"
    }
   ],
   "source": [
    "a=20\n",
    "a"
   ]
  },
  {
   "cell_type": "code",
   "execution_count": 128,
   "id": "b391bd52-4db0-450a-89e5-9419dbea9811",
   "metadata": {},
   "outputs": [
    {
     "data": {
      "text/plain": [
       "22"
      ]
     },
     "execution_count": 128,
     "metadata": {},
     "output_type": "execute_result"
    }
   ],
   "source": [
    "a= a+2 # if you want increement by 2\n",
    "a"
   ]
  },
  {
   "cell_type": "code",
   "execution_count": 130,
   "id": "b56f4e35-a309-47fc-a2dc-051f45199d75",
   "metadata": {},
   "outputs": [
    {
     "data": {
      "text/plain": [
       "24"
      ]
     },
     "execution_count": 130,
     "metadata": {},
     "output_type": "execute_result"
    }
   ],
   "source": [
    "a +=2\n",
    "a"
   ]
  },
  {
   "cell_type": "code",
   "execution_count": 132,
   "id": "463433fb-295a-4f17-a38e-3784b53c0927",
   "metadata": {},
   "outputs": [
    {
     "data": {
      "text/plain": [
       "48"
      ]
     },
     "execution_count": 132,
     "metadata": {},
     "output_type": "execute_result"
    }
   ],
   "source": [
    "a*=2\n",
    "a"
   ]
  },
  {
   "cell_type": "code",
   "execution_count": 134,
   "id": "075c30b5-ca5d-4928-ba3e-fffc3ff57714",
   "metadata": {},
   "outputs": [
    {
     "data": {
      "text/plain": [
       "24.0"
      ]
     },
     "execution_count": 134,
     "metadata": {},
     "output_type": "execute_result"
    }
   ],
   "source": [
    "a /=2\n",
    "a"
   ]
  },
  {
   "cell_type": "code",
   "execution_count": 136,
   "id": "730280d8-4aa2-4b20-8c1f-25e45218d2d4",
   "metadata": {},
   "outputs": [
    {
     "data": {
      "text/plain": [
       "22.0"
      ]
     },
     "execution_count": 136,
     "metadata": {},
     "output_type": "execute_result"
    }
   ],
   "source": [
    "a-=2\n",
    "a"
   ]
  },
  {
   "cell_type": "code",
   "execution_count": 138,
   "id": "d906d1ea-d2db-4a51-b4bf-ceff660d9472",
   "metadata": {},
   "outputs": [
    {
     "data": {
      "text/plain": [
       "11.0"
      ]
     },
     "execution_count": 138,
     "metadata": {},
     "output_type": "execute_result"
    }
   ],
   "source": [
    "a//=2\n",
    "a"
   ]
  },
  {
   "cell_type": "code",
   "execution_count": 144,
   "id": "6c9dffe3-c6bd-4ca3-967c-a765bdb7bead",
   "metadata": {},
   "outputs": [],
   "source": [
    "x,y=20,25 # we can assign variable in onle line as well"
   ]
  },
  {
   "cell_type": "code",
   "execution_count": 147,
   "id": "f52edcfa-7699-4192-bef3-d91bc17d0c1c",
   "metadata": {},
   "outputs": [
    {
     "data": {
      "text/plain": [
       "20"
      ]
     },
     "execution_count": 147,
     "metadata": {},
     "output_type": "execute_result"
    }
   ],
   "source": [
    "x\n"
   ]
  },
  {
   "cell_type": "code",
   "execution_count": 150,
   "id": "9423f8a6-c4b3-4437-9206-836745128265",
   "metadata": {},
   "outputs": [
    {
     "data": {
      "text/plain": [
       "25"
      ]
     },
     "execution_count": 150,
     "metadata": {},
     "output_type": "execute_result"
    }
   ],
   "source": [
    "y"
   ]
  },
  {
   "cell_type": "code",
   "execution_count": null,
   "id": "53712954-8f77-43ea-801b-cbb37a268d1a",
   "metadata": {},
   "outputs": [],
   "source": []
  },
  {
   "cell_type": "code",
   "execution_count": null,
   "id": "4405871a-93a5-411e-9149-fb06f7827424",
   "metadata": {},
   "outputs": [],
   "source": []
  },
  {
   "cell_type": "code",
   "execution_count": 153,
   "id": "9c18e3a4-b2da-47c4-ae88-85bd1747462f",
   "metadata": {},
   "outputs": [
    {
     "data": {
      "text/plain": [
       "10"
      ]
     },
     "execution_count": 153,
     "metadata": {},
     "output_type": "execute_result"
    }
   ],
   "source": [
    "m=10\n",
    "m"
   ]
  },
  {
   "cell_type": "code",
   "execution_count": 157,
   "id": "858ef63a-6abf-4784-9faa-fe7163985665",
   "metadata": {},
   "outputs": [
    {
     "data": {
      "text/plain": [
       "-10"
      ]
     },
     "execution_count": 157,
     "metadata": {},
     "output_type": "execute_result"
    }
   ],
   "source": [
    "n=-(10)\n",
    "n"
   ]
  },
  {
   "cell_type": "code",
   "execution_count": 159,
   "id": "fd4fef8e-803d-4223-a4ed-5b6c4a456fa8",
   "metadata": {},
   "outputs": [
    {
     "data": {
      "text/plain": [
       "10"
      ]
     },
     "execution_count": 159,
     "metadata": {},
     "output_type": "execute_result"
    }
   ],
   "source": [
    "-n"
   ]
  },
  {
   "cell_type": "code",
   "execution_count": null,
   "id": "83781a35-0429-485a-b472-92bf24b29581",
   "metadata": {},
   "outputs": [],
   "source": []
  },
  {
   "cell_type": "markdown",
   "id": "00b9e3c3-e1cf-4005-b072-92a24123ef51",
   "metadata": {},
   "source": [
    "# relational operator"
   ]
  },
  {
   "cell_type": "code",
   "execution_count": 179,
   "id": "f3069ae4-b62b-49a4-9d49-4a78931ecc42",
   "metadata": {},
   "outputs": [],
   "source": [
    "a=20\n",
    "b=56"
   ]
  },
  {
   "cell_type": "code",
   "execution_count": 181,
   "id": "32337637-c532-416f-aa5c-fc71adcaeb7a",
   "metadata": {},
   "outputs": [
    {
     "data": {
      "text/plain": [
       "True"
      ]
     },
     "execution_count": 181,
     "metadata": {},
     "output_type": "execute_result"
    }
   ],
   "source": [
    "a<b"
   ]
  },
  {
   "cell_type": "code",
   "execution_count": 183,
   "id": "3344a355-0611-4121-9ed1-9532728440ee",
   "metadata": {},
   "outputs": [
    {
     "data": {
      "text/plain": [
       "False"
      ]
     },
     "execution_count": 183,
     "metadata": {},
     "output_type": "execute_result"
    }
   ],
   "source": [
    " a>b"
   ]
  },
  {
   "cell_type": "code",
   "execution_count": 185,
   "id": "2d86259f-0359-4514-bc97-2929c84b98fc",
   "metadata": {},
   "outputs": [
    {
     "data": {
      "text/plain": [
       "False"
      ]
     },
     "execution_count": 185,
     "metadata": {},
     "output_type": "execute_result"
    }
   ],
   "source": [
    "a==b"
   ]
  },
  {
   "cell_type": "code",
   "execution_count": 187,
   "id": "8cc40e48-04f7-4f5c-8692-09e8d12cbba9",
   "metadata": {},
   "outputs": [
    {
     "data": {
      "text/plain": [
       "True"
      ]
     },
     "execution_count": 187,
     "metadata": {},
     "output_type": "execute_result"
    }
   ],
   "source": [
    "a!=b"
   ]
  },
  {
   "cell_type": "code",
   "execution_count": 189,
   "id": "68eaee3c-03cc-423d-af10-fbf02c5627f0",
   "metadata": {},
   "outputs": [],
   "source": [
    "# a=b we cannot give a=b that means we are assignig a value to b"
   ]
  },
  {
   "cell_type": "code",
   "execution_count": 191,
   "id": "daecc759-8abd-4a8c-b83d-b12ae1dea80c",
   "metadata": {},
   "outputs": [
    {
     "data": {
      "text/plain": [
       "True"
      ]
     },
     "execution_count": 191,
     "metadata": {},
     "output_type": "execute_result"
    }
   ],
   "source": [
    "a<=b"
   ]
  },
  {
   "cell_type": "code",
   "execution_count": 193,
   "id": "2d7e8888-febc-40ab-8113-1cc726eb1444",
   "metadata": {},
   "outputs": [
    {
     "data": {
      "text/plain": [
       "False"
      ]
     },
     "execution_count": 193,
     "metadata": {},
     "output_type": "execute_result"
    }
   ],
   "source": [
    "a>=b"
   ]
  },
  {
   "cell_type": "code",
   "execution_count": 195,
   "id": "2768d80b-d5cb-4c15-af01-23d46879e56c",
   "metadata": {},
   "outputs": [
    {
     "data": {
      "text/plain": [
       "True"
      ]
     },
     "execution_count": 195,
     "metadata": {},
     "output_type": "execute_result"
    }
   ],
   "source": [
    "a<b"
   ]
  },
  {
   "cell_type": "code",
   "execution_count": 197,
   "id": "dafd7dc6-b90e-41f6-8a5e-eb7b2a0c2376",
   "metadata": {},
   "outputs": [
    {
     "data": {
      "text/plain": [
       "False"
      ]
     },
     "execution_count": 197,
     "metadata": {},
     "output_type": "execute_result"
    }
   ],
   "source": [
    "a>b"
   ]
  },
  {
   "cell_type": "code",
   "execution_count": null,
   "id": "5e8bacc5-52ce-46cc-9f32-e605de9c50c6",
   "metadata": {},
   "outputs": [],
   "source": []
  },
  {
   "cell_type": "markdown",
   "id": "097932c5-db60-4af5-bc63-3910bcdc6eb1",
   "metadata": {},
   "source": [
    "# LOGICAL OPERATOR (AND,OR & NOT)"
   ]
  },
  {
   "cell_type": "code",
   "execution_count": 201,
   "id": "b6fe4042-007d-4e50-8bea-597120a6b3e7",
   "metadata": {},
   "outputs": [],
   "source": [
    "c=20\n",
    "d=25"
   ]
  },
  {
   "cell_type": "code",
   "execution_count": 203,
   "id": "0b088395-bcf4-495f-8de9-fed795221bed",
   "metadata": {},
   "outputs": [
    {
     "data": {
      "text/plain": [
       "False"
      ]
     },
     "execution_count": 203,
     "metadata": {},
     "output_type": "execute_result"
    }
   ],
   "source": [
    "c > 22 and d < 10"
   ]
  },
  {
   "cell_type": "code",
   "execution_count": 209,
   "id": "64446dd5-76c3-488c-847a-d7ef4dda0d79",
   "metadata": {},
   "outputs": [
    {
     "data": {
      "text/plain": [
       "True"
      ]
     },
     "execution_count": 209,
     "metadata": {},
     "output_type": "execute_result"
    }
   ],
   "source": [
    "c < 22 and d > 10"
   ]
  },
  {
   "cell_type": "code",
   "execution_count": 211,
   "id": "3ca00802-a958-4296-ad4a-578ebb9b6b5a",
   "metadata": {},
   "outputs": [
    {
     "data": {
      "text/plain": [
       "False"
      ]
     },
     "execution_count": 211,
     "metadata": {},
     "output_type": "execute_result"
    }
   ],
   "source": [
    "c > 22 or d < 10"
   ]
  },
  {
   "cell_type": "code",
   "execution_count": 213,
   "id": "38d0d659-2a01-4faa-ab5f-2f8cb22ce4c4",
   "metadata": {},
   "outputs": [
    {
     "data": {
      "text/plain": [
       "True"
      ]
     },
     "execution_count": 213,
     "metadata": {},
     "output_type": "execute_result"
    }
   ],
   "source": [
    "c < 22 or d > 10"
   ]
  },
  {
   "cell_type": "code",
   "execution_count": 215,
   "id": "de3ff442-4d5a-416b-99d5-1922e0709934",
   "metadata": {},
   "outputs": [
    {
     "data": {
      "text/plain": [
       "True"
      ]
     },
     "execution_count": 215,
     "metadata": {},
     "output_type": "execute_result"
    }
   ],
   "source": [
    "a = True\n",
    "a"
   ]
  },
  {
   "cell_type": "code",
   "execution_count": 217,
   "id": "f48b7c57-0f19-4085-b59b-5b5634572fbe",
   "metadata": {},
   "outputs": [
    {
     "data": {
      "text/plain": [
       "False"
      ]
     },
     "execution_count": 217,
     "metadata": {},
     "output_type": "execute_result"
    }
   ],
   "source": [
    "not a"
   ]
  },
  {
   "cell_type": "code",
   "execution_count": 219,
   "id": "05731778-f75a-4b06-9185-e85dc966d3b7",
   "metadata": {},
   "outputs": [
    {
     "data": {
      "text/plain": [
       "False"
      ]
     },
     "execution_count": 219,
     "metadata": {},
     "output_type": "execute_result"
    }
   ],
   "source": [
    "b=False\n",
    "b"
   ]
  },
  {
   "cell_type": "code",
   "execution_count": 221,
   "id": "8bbd6a3b-17cc-4b07-8735-7df903525aaf",
   "metadata": {},
   "outputs": [
    {
     "data": {
      "text/plain": [
       "True"
      ]
     },
     "execution_count": 221,
     "metadata": {},
     "output_type": "execute_result"
    }
   ],
   "source": [
    "not b"
   ]
  },
  {
   "cell_type": "code",
   "execution_count": null,
   "id": "43bc4b94-cab1-47cb-a965-a2b45a78f5b6",
   "metadata": {},
   "outputs": [],
   "source": []
  },
  {
   "cell_type": "code",
   "execution_count": null,
   "id": "6b591c9c-9c12-482a-b1db-862b405cff5d",
   "metadata": {},
   "outputs": [],
   "source": []
  },
  {
   "cell_type": "code",
   "execution_count": null,
   "id": "5e96fa7e-d2dc-464f-9be7-84a92f813423",
   "metadata": {},
   "outputs": [],
   "source": []
  },
  {
   "cell_type": "code",
   "execution_count": null,
   "id": "4c341c1e-9497-435c-a574-20b757318ea0",
   "metadata": {},
   "outputs": [],
   "source": []
  }
 ],
 "metadata": {
  "kernelspec": {
   "display_name": "Python [conda env:base] *",
   "language": "python",
   "name": "conda-base-py"
  },
  "language_info": {
   "codemirror_mode": {
    "name": "ipython",
    "version": 3
   },
   "file_extension": ".py",
   "mimetype": "text/x-python",
   "name": "python",
   "nbconvert_exporter": "python",
   "pygments_lexer": "ipython3",
   "version": "3.12.7"
  }
 },
 "nbformat": 4,
 "nbformat_minor": 5
}
