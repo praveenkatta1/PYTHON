{
 "cells": [
  {
   "cell_type": "markdown",
   "id": "42011e25-8e59-47c0-930b-917733ab8c2f",
   "metadata": {},
   "source": [
    "PYTHON\n"
   ]
  },
  {
   "cell_type": "raw",
   "id": "7ef1915f-3585-493d-a28c-6b6c8f34c773",
   "metadata": {},
   "source": [
    "PYTHON IS A OBJECT ORIENTED PROGRAMMING LANGUAGE AND IT IS HIGHLY RECOMMENDED PROGRAMMING LANGUAGE.\n",
    "\n",
    "FATHER OF PYTHON IS GUIDOE VANROSAM.\n",
    "\n",
    "PYTHON CAN RUN IN DIFFERENT PLATFORMS LIKE GOOGLE COLAB,JUPITER NOTEBOOK, SPYDER, CMD PROMPTS.\n",
    "\n",
    "PYTHON IS VERY POWERFUL FOR BID DATA,DATA SCIENCE,GEN AI, LLM MODEL AND ETC.\n",
    "\n",
    "THE MAIN ADVANTAGE OF PYTHON IS LIBRARIES OR FRAMEWORKS. WE TOOK THE ALL THE CONCEPTS FROM THE JAVA , C, C++, C# TO CREATE PYTHON."
   ]
  },
  {
   "cell_type": "markdown",
   "id": "b6b04cd8-86db-4c1d-994b-4aa60ad8da83",
   "metadata": {},
   "source": [
    "IDE-INTEGRATED DEVELOPMENT ENVIRONMENT"
   ]
  },
  {
   "cell_type": "raw",
   "id": "36bd729b-cfea-44a0-a0ce-08a87d4763e7",
   "metadata": {},
   "source": [
    "IN IDE THE USER AND DEVELOPER WRITE THE CODE,RUN THE CODE, READ THE CODE, FIX THE CODE.\n",
    "\n",
    "WHEN WE THE CODE WE GET BUGS I.E ERRORS THE DEVELOPER WILL DEBUG THE CODE BY USING IDE THE IDE PLATFORMS LIKE GOOGLE COLAB, SPYDER, JUPITER NOTEBOOK ETC.\n",
    "\n",
    "PYTHON IS BOTH INTERPRETER AND COMPILER.\n",
    "\n",
    "INTERPRETER- EXCUTE THE CODE LINE BY LINE\n",
    "\n",
    "COMPLIER- EXCUTE ENTIRE CODE AT ONCE"
   ]
  },
  {
   "cell_type": "markdown",
   "id": "d32e193e-ab99-4638-a9be-bcecfb424874",
   "metadata": {},
   "source": [
    "SOME BASIC PROGRAM"
   ]
  },
  {
   "cell_type": "markdown",
   "id": "68e900c1-4be6-475b-9fae-c27be5504647",
   "metadata": {},
   "source": [
    "ADDITION"
   ]
  },
  {
   "cell_type": "code",
   "execution_count": 14,
   "id": "b08d7090-bb1d-4790-8400-67ce1f1af7e3",
   "metadata": {},
   "outputs": [
    {
     "data": {
      "text/plain": [
       "98"
      ]
     },
     "execution_count": 14,
     "metadata": {},
     "output_type": "execute_result"
    }
   ],
   "source": [
    "10+88"
   ]
  },
  {
   "cell_type": "markdown",
   "id": "4c09b427-7bb0-4a36-b608-ac60615358b7",
   "metadata": {},
   "source": [
    "SUBTRACTION"
   ]
  },
  {
   "cell_type": "code",
   "execution_count": 18,
   "id": "06dcce63-f45b-4b29-82d1-6f4c5b1fec50",
   "metadata": {},
   "outputs": [
    {
     "data": {
      "text/plain": [
       "61"
      ]
     },
     "execution_count": 18,
     "metadata": {},
     "output_type": "execute_result"
    }
   ],
   "source": [
    "100-39"
   ]
  },
  {
   "cell_type": "markdown",
   "id": "c2c2c43e-daa4-4221-bd28-4c90ba81876a",
   "metadata": {},
   "source": [
    "DIVISION"
   ]
  },
  {
   "cell_type": "code",
   "execution_count": 24,
   "id": "463d30f5-1111-4aaf-adf7-d3a501abaae8",
   "metadata": {},
   "outputs": [
    {
     "data": {
      "text/plain": [
       "7.15"
      ]
     },
     "execution_count": 24,
     "metadata": {},
     "output_type": "execute_result"
    }
   ],
   "source": [
    "143/20"
   ]
  },
  {
   "cell_type": "code",
   "execution_count": 26,
   "id": "a793e945-c89d-4b01-89f0-657697ae0c5e",
   "metadata": {},
   "outputs": [
    {
     "data": {
      "text/plain": [
       "1251779.874524715"
      ]
     },
     "execution_count": 26,
     "metadata": {},
     "output_type": "execute_result"
    }
   ],
   "source": [
    "987654321/789"
   ]
  },
  {
   "cell_type": "markdown",
   "id": "454cfc9b-19b4-487f-a758-13e6c86e5032",
   "metadata": {},
   "source": [
    "MULTIPLICATION"
   ]
  },
  {
   "cell_type": "code",
   "execution_count": 28,
   "id": "121ddf4c-4f24-4bae-82f5-c988653847a0",
   "metadata": {},
   "outputs": [
    {
     "data": {
      "text/plain": [
       "2417272"
      ]
     },
     "execution_count": 28,
     "metadata": {},
     "output_type": "execute_result"
    }
   ],
   "source": [
    "109876*22"
   ]
  },
  {
   "cell_type": "markdown",
   "id": "cd3db3a5-cc03-4437-a726-a110c3fee85a",
   "metadata": {},
   "source": [
    "98*9"
   ]
  },
  {
   "cell_type": "code",
   "execution_count": null,
   "id": "851bfe27-a21b-488a-a15a-aca6bd581f11",
   "metadata": {},
   "outputs": [],
   "source": []
  },
  {
   "cell_type": "code",
   "execution_count": 38,
   "id": "d84bce21-2f65-4065-8c22-2f02ede2993a",
   "metadata": {},
   "outputs": [
    {
     "ename": "SyntaxError",
     "evalue": "invalid syntax (2122607216.py, line 1)",
     "output_type": "error",
     "traceback": [
      "\u001b[1;36m  Cell \u001b[1;32mIn[38], line 1\u001b[1;36m\u001b[0m\n\u001b[1;33m    20-30+\u001b[0m\n\u001b[1;37m          ^\u001b[0m\n\u001b[1;31mSyntaxError\u001b[0m\u001b[1;31m:\u001b[0m invalid syntax\n"
     ]
    }
   ],
   "source": [
    "20-30+ "
   ]
  },
  {
   "cell_type": "code",
   "execution_count": 40,
   "id": "5c25b4fc-313b-4ba4-9a4e-e6309ea31e81",
   "metadata": {},
   "outputs": [
    {
     "ename": "SyntaxError",
     "evalue": "invalid syntax (3909824918.py, line 1)",
     "output_type": "error",
     "traceback": [
      "\u001b[1;36m  Cell \u001b[1;32mIn[40], line 1\u001b[1;36m\u001b[0m\n\u001b[1;33m    20-2-\u001b[0m\n\u001b[1;37m         ^\u001b[0m\n\u001b[1;31mSyntaxError\u001b[0m\u001b[1;31m:\u001b[0m invalid syntax\n"
     ]
    }
   ],
   "source": [
    "20-2-"
   ]
  },
  {
   "cell_type": "code",
   "execution_count": 46,
   "id": "52e38e01-a6f5-47a3-aa21-e6365a21f0d7",
   "metadata": {},
   "outputs": [
    {
     "data": {
      "text/plain": [
       "41.75"
      ]
     },
     "execution_count": 46,
     "metadata": {},
     "output_type": "execute_result"
    }
   ],
   "source": [
    "20*3+7/4-20  #BODMAS (brackets,order,divide,mul,add,sub)"
   ]
  },
  {
   "cell_type": "code",
   "execution_count": 44,
   "id": "d26f2799-9e82-4ad3-931f-c1303a403a7d",
   "metadata": {},
   "outputs": [
    {
     "data": {
      "text/plain": [
       "2688"
      ]
     },
     "execution_count": 44,
     "metadata": {},
     "output_type": "execute_result"
    }
   ],
   "source": [
    "8*8*7*6"
   ]
  },
  {
   "cell_type": "code",
   "execution_count": 48,
   "id": "2d9c5296-6fed-4a9d-9490-8ef76227fb1f",
   "metadata": {},
   "outputs": [
    {
     "ename": "SyntaxError",
     "evalue": "invalid syntax (2581560710.py, line 1)",
     "output_type": "error",
     "traceback": [
      "\u001b[1;36m  Cell \u001b[1;32mIn[48], line 1\u001b[1;36m\u001b[0m\n\u001b[1;33m    2****2\u001b[0m\n\u001b[1;37m       ^\u001b[0m\n\u001b[1;31mSyntaxError\u001b[0m\u001b[1;31m:\u001b[0m invalid syntax\n"
     ]
    }
   ],
   "source": [
    "2****2"
   ]
  },
  {
   "cell_type": "markdown",
   "id": "6892918b-9d1f-485d-9936-f573748f41db",
   "metadata": {},
   "source": [
    "MODULUS"
   ]
  },
  {
   "cell_type": "code",
   "execution_count": 52,
   "id": "f02f9c60-465b-45f9-9d8d-4342728034b3",
   "metadata": {},
   "outputs": [
    {
     "data": {
      "text/plain": [
       "20"
      ]
     },
     "execution_count": 52,
     "metadata": {},
     "output_type": "execute_result"
    }
   ],
   "source": [
    "20%30 "
   ]
  },
  {
   "cell_type": "code",
   "execution_count": 54,
   "id": "8d814c2f-0bff-4d43-a4e9-061e376a5619",
   "metadata": {},
   "outputs": [
    {
     "ename": "SyntaxError",
     "evalue": "invalid syntax (499260891.py, line 1)",
     "output_type": "error",
     "traceback": [
      "\u001b[1;36m  Cell \u001b[1;32mIn[54], line 1\u001b[1;36m\u001b[0m\n\u001b[1;33m    30%%29\u001b[0m\n\u001b[1;37m       ^\u001b[0m\n\u001b[1;31mSyntaxError\u001b[0m\u001b[1;31m:\u001b[0m invalid syntax\n"
     ]
    }
   ],
   "source": [
    "30%%29"
   ]
  },
  {
   "cell_type": "code",
   "execution_count": 56,
   "id": "f5e3d064-0585-49ec-bf07-a7c2c3914812",
   "metadata": {},
   "outputs": [
    {
     "data": {
      "text/plain": [
       "3"
      ]
     },
     "execution_count": 56,
     "metadata": {},
     "output_type": "execute_result"
    }
   ],
   "source": [
    "78//20 #REMAINDER"
   ]
  },
  {
   "cell_type": "code",
   "execution_count": 62,
   "id": "58116949-2d22-44c3-b853-789d9ffcceac",
   "metadata": {},
   "outputs": [
    {
     "ename": "TypeError",
     "evalue": "can only concatenate str (not \"int\") to str",
     "output_type": "error",
     "traceback": [
      "\u001b[1;31m---------------------------------------------------------------------------\u001b[0m",
      "\u001b[1;31mTypeError\u001b[0m                                 Traceback (most recent call last)",
      "Cell \u001b[1;32mIn[62], line 1\u001b[0m\n\u001b[1;32m----> 1\u001b[0m \u001b[38;5;124m'\u001b[39m\u001b[38;5;124mKATTA\u001b[39m\u001b[38;5;124m'\u001b[39m\u001b[38;5;241m+\u001b[39m\u001b[38;5;241m28\u001b[39m\n",
      "\u001b[1;31mTypeError\u001b[0m: can only concatenate str (not \"int\") to str"
     ]
    }
   ],
   "source": [
    "'KATTA'+28"
   ]
  },
  {
   "cell_type": "code",
   "execution_count": 64,
   "id": "792a575f-2353-4b15-b93a-779279aade93",
   "metadata": {},
   "outputs": [
    {
     "ename": "TypeError",
     "evalue": "unsupported operand type(s) for +: 'int' and 'str'",
     "output_type": "error",
     "traceback": [
      "\u001b[1;31m---------------------------------------------------------------------------\u001b[0m",
      "\u001b[1;31mTypeError\u001b[0m                                 Traceback (most recent call last)",
      "Cell \u001b[1;32mIn[64], line 1\u001b[0m\n\u001b[1;32m----> 1\u001b[0m \u001b[38;5;241m28\u001b[39m\u001b[38;5;241m+\u001b[39m\u001b[38;5;124m\"\u001b[39m\u001b[38;5;124mPRAVEEN\u001b[39m\u001b[38;5;124m\"\u001b[39m\n",
      "\u001b[1;31mTypeError\u001b[0m: unsupported operand type(s) for +: 'int' and 'str'"
     ]
    }
   ],
   "source": [
    "28+\"PRAVEEN\""
   ]
  },
  {
   "cell_type": "code",
   "execution_count": 68,
   "id": "80ac4158-78a2-40c7-ab92-cfafe218d6e8",
   "metadata": {},
   "outputs": [
    {
     "data": {
      "text/plain": [
       "20"
      ]
     },
     "execution_count": 68,
     "metadata": {},
     "output_type": "execute_result"
    }
   ],
   "source": [
    "A=20\n",
    "A"
   ]
  },
  {
   "cell_type": "code",
   "execution_count": 70,
   "id": "aa85b638-0cba-4532-871f-dff9cf06f6bc",
   "metadata": {},
   "outputs": [
    {
     "data": {
      "text/plain": [
       "int"
      ]
     },
     "execution_count": 70,
     "metadata": {},
     "output_type": "execute_result"
    }
   ],
   "source": [
    "type(A)"
   ]
  },
  {
   "cell_type": "code",
   "execution_count": 72,
   "id": "7ae05b2d-f433-4032-9a0d-4b1da51b69bc",
   "metadata": {},
   "outputs": [
    {
     "data": {
      "text/plain": [
       "'sri sai'"
      ]
     },
     "execution_count": 72,
     "metadata": {},
     "output_type": "execute_result"
    }
   ],
   "source": [
    "b=\"sri sai\"\n",
    "b"
   ]
  },
  {
   "cell_type": "code",
   "execution_count": 74,
   "id": "53ad8b03-1d84-46e0-9c4d-66c440bd38b1",
   "metadata": {},
   "outputs": [
    {
     "data": {
      "text/plain": [
       "str"
      ]
     },
     "execution_count": 74,
     "metadata": {},
     "output_type": "execute_result"
    }
   ],
   "source": [
    "type(b)"
   ]
  },
  {
   "cell_type": "code",
   "execution_count": 78,
   "id": "a2019c41-25a2-4911-a7fc-11b51b5e6aa7",
   "metadata": {},
   "outputs": [
    {
     "name": "stdout",
     "output_type": "stream",
     "text": [
      "20\n",
      "sri sai\n"
     ]
    }
   ],
   "source": [
    "print(A)\n",
    "print(b)"
   ]
  },
  {
   "cell_type": "code",
   "execution_count": 85,
   "id": "005bd7d3-72e0-4ff2-8208-68856ce42a43",
   "metadata": {},
   "outputs": [],
   "source": [
    "a=\"KATTA\""
   ]
  },
  {
   "cell_type": "code",
   "execution_count": 99,
   "id": "a89e9ad4-f894-44d4-95cf-f0c4bf2e5ab7",
   "metadata": {},
   "outputs": [],
   "source": [
    "a3= 'praveen' "
   ]
  },
  {
   "cell_type": "code",
   "execution_count": 101,
   "id": "fbf5fc92-f5f5-46eb-b107-e2553645eb30",
   "metadata": {},
   "outputs": [],
   "source": [
    "a2=\"sri sai\""
   ]
  },
  {
   "cell_type": "code",
   "execution_count": 93,
   "id": "bfb01e7b-1ea8-4696-ba91-d0a1bc260dd1",
   "metadata": {},
   "outputs": [
    {
     "data": {
      "text/plain": [
       "'KATTAKATTA'"
      ]
     },
     "execution_count": 93,
     "metadata": {},
     "output_type": "execute_result"
    }
   ],
   "source": [
    "2*a  #withoutgaps"
   ]
  },
  {
   "cell_type": "code",
   "execution_count": 103,
   "id": "bcfb8fb3-bb16-499f-80b0-0a4e2d98957d",
   "metadata": {},
   "outputs": [
    {
     "data": {
      "text/plain": [
       "'sri saisri sai'"
      ]
     },
     "execution_count": 103,
     "metadata": {},
     "output_type": "execute_result"
    }
   ],
   "source": [
    "2* a2"
   ]
  },
  {
   "cell_type": "code",
   "execution_count": 97,
   "id": "407a6e62-c92e-4fb1-8902-2a9b415799f1",
   "metadata": {},
   "outputs": [
    {
     "data": {
      "text/plain": [
       "' katta katta katta katta katta'"
      ]
     },
     "execution_count": 97,
     "metadata": {},
     "output_type": "execute_result"
    }
   ],
   "source": [
    "5*' katta' #with gaps"
   ]
  },
  {
   "cell_type": "code",
   "execution_count": 105,
   "id": "217b268e-d6f8-41f7-bc97-c00551569d8b",
   "metadata": {},
   "outputs": [
    {
     "data": {
      "text/plain": [
       "('KATTA',\n",
       " 'sri sai',\n",
       " 'praveen',\n",
       " 'KATTA',\n",
       " 'sri sai',\n",
       " 'praveen',\n",
       " 'KATTA',\n",
       " 'sri sai',\n",
       " 'praveen',\n",
       " 'KATTA',\n",
       " 'sri sai',\n",
       " 'praveen')"
      ]
     },
     "execution_count": 105,
     "metadata": {},
     "output_type": "execute_result"
    }
   ],
   "source": [
    "4*(a,a2,a3)"
   ]
  },
  {
   "cell_type": "code",
   "execution_count": null,
   "id": "798eb9c3-16fd-4560-9c9c-d80d112a1ec8",
   "metadata": {},
   "outputs": [],
   "source": []
  },
  {
   "cell_type": "code",
   "execution_count": null,
   "id": "f83d69b6-a5a9-4a5a-ba61-9727ca9af457",
   "metadata": {},
   "outputs": [],
   "source": []
  }
 ],
 "metadata": {
  "kernelspec": {
   "display_name": "Python [conda env:base] *",
   "language": "python",
   "name": "conda-base-py"
  },
  "language_info": {
   "codemirror_mode": {
    "name": "ipython",
    "version": 3
   },
   "file_extension": ".py",
   "mimetype": "text/x-python",
   "name": "python",
   "nbconvert_exporter": "python",
   "pygments_lexer": "ipython3",
   "version": "3.12.7"
  }
 },
 "nbformat": 4,
 "nbformat_minor": 5
}
