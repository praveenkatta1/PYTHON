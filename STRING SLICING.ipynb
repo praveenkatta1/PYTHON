{
 "cells": [
  {
   "cell_type": "markdown",
   "id": "3e58a305-ecac-4ab9-9662-aa8ce6244bd7",
   "metadata": {},
   "source": [
    "# STRING INDEXING"
   ]
  },
  {
   "cell_type": "markdown",
   "id": "9cce076a-5036-4f47-a1ec-7ac02fdda788",
   "metadata": {},
   "source": [
    "# 1---> FORWARD INDEXING"
   ]
  },
  {
   "cell_type": "code",
   "execution_count": 4,
   "id": "d8a745c0-074c-43f4-9d2a-9207e022c941",
   "metadata": {},
   "outputs": [],
   "source": [
    "string= 'praveen'"
   ]
  },
  {
   "cell_type": "code",
   "execution_count": 6,
   "id": "edf9740c-e7b5-4979-8c6e-30b54f2fa475",
   "metadata": {},
   "outputs": [
    {
     "data": {
      "text/plain": [
       "'p'"
      ]
     },
     "execution_count": 6,
     "metadata": {},
     "output_type": "execute_result"
    }
   ],
   "source": [
    "string[0]"
   ]
  },
  {
   "cell_type": "code",
   "execution_count": 8,
   "id": "60ec5959-8dec-4b88-9caf-55aa189eeeff",
   "metadata": {},
   "outputs": [
    {
     "data": {
      "text/plain": [
       "'v'"
      ]
     },
     "execution_count": 8,
     "metadata": {},
     "output_type": "execute_result"
    }
   ],
   "source": [
    "string[3]"
   ]
  },
  {
   "cell_type": "code",
   "execution_count": 10,
   "id": "b0cc7bb3-6065-41d3-86a6-d1acd918fa69",
   "metadata": {},
   "outputs": [
    {
     "ename": "IndexError",
     "evalue": "string index out of range",
     "output_type": "error",
     "traceback": [
      "\u001b[1;31m---------------------------------------------------------------------------\u001b[0m",
      "\u001b[1;31mIndexError\u001b[0m                                Traceback (most recent call last)",
      "Cell \u001b[1;32mIn[10], line 1\u001b[0m\n\u001b[1;32m----> 1\u001b[0m string[\u001b[38;5;241m10\u001b[39m]\n",
      "\u001b[1;31mIndexError\u001b[0m: string index out of range"
     ]
    }
   ],
   "source": [
    "string[10]"
   ]
  },
  {
   "cell_type": "code",
   "execution_count": 12,
   "id": "f6f50182-e181-4e20-b4e9-d9c67e6a0f65",
   "metadata": {},
   "outputs": [
    {
     "data": {
      "text/plain": [
       "'n'"
      ]
     },
     "execution_count": 12,
     "metadata": {},
     "output_type": "execute_result"
    }
   ],
   "source": [
    "string[6]"
   ]
  },
  {
   "cell_type": "code",
   "execution_count": 14,
   "id": "5abcd538-f039-4e5e-86bb-1c9c29400aec",
   "metadata": {},
   "outputs": [],
   "source": [
    "b='datascience'"
   ]
  },
  {
   "cell_type": "code",
   "execution_count": 16,
   "id": "02f4db59-705b-4592-90c2-321e3b32bd0e",
   "metadata": {},
   "outputs": [
    {
     "data": {
      "text/plain": [
       "'c'"
      ]
     },
     "execution_count": 16,
     "metadata": {},
     "output_type": "execute_result"
    }
   ],
   "source": [
    "b[5]"
   ]
  },
  {
   "cell_type": "code",
   "execution_count": 18,
   "id": "809b4fcd-390d-4d9e-85ff-9d772532be25",
   "metadata": {},
   "outputs": [
    {
     "data": {
      "text/plain": [
       "'n'"
      ]
     },
     "execution_count": 18,
     "metadata": {},
     "output_type": "execute_result"
    }
   ],
   "source": [
    "b[8]"
   ]
  },
  {
   "cell_type": "markdown",
   "id": "3a64282b-e2af-4a9e-ba8d-18ca88347496",
   "metadata": {},
   "source": [
    "# backward slicing"
   ]
  },
  {
   "cell_type": "code",
   "execution_count": 23,
   "id": "d6700863-1c12-49d2-b95f-e086d2a2d350",
   "metadata": {},
   "outputs": [
    {
     "data": {
      "text/plain": [
       "'genarativeai'"
      ]
     },
     "execution_count": 23,
     "metadata": {},
     "output_type": "execute_result"
    }
   ],
   "source": [
    "a='genarativeai'\n",
    "a"
   ]
  },
  {
   "cell_type": "code",
   "execution_count": 25,
   "id": "4a51fe4b-6cad-4f38-9912-a90794901964",
   "metadata": {},
   "outputs": [
    {
     "data": {
      "text/plain": [
       "'i'"
      ]
     },
     "execution_count": 25,
     "metadata": {},
     "output_type": "execute_result"
    }
   ],
   "source": [
    "a[-5]"
   ]
  },
  {
   "cell_type": "code",
   "execution_count": 27,
   "id": "13f68c1a-ca58-4591-86a8-05fbe68f0bd4",
   "metadata": {},
   "outputs": [
    {
     "data": {
      "text/plain": [
       "'a'"
      ]
     },
     "execution_count": 27,
     "metadata": {},
     "output_type": "execute_result"
    }
   ],
   "source": [
    "a[-9]"
   ]
  },
  {
   "cell_type": "code",
   "execution_count": 29,
   "id": "510d4472-fc0f-4801-9e45-6522bfa6e32b",
   "metadata": {},
   "outputs": [
    {
     "ename": "IndexError",
     "evalue": "string index out of range",
     "output_type": "error",
     "traceback": [
      "\u001b[1;31m---------------------------------------------------------------------------\u001b[0m",
      "\u001b[1;31mIndexError\u001b[0m                                Traceback (most recent call last)",
      "Cell \u001b[1;32mIn[29], line 1\u001b[0m\n\u001b[1;32m----> 1\u001b[0m a[\u001b[38;5;241m-\u001b[39m\u001b[38;5;241m15\u001b[39m]\n",
      "\u001b[1;31mIndexError\u001b[0m: string index out of range"
     ]
    }
   ],
   "source": [
    "a[-15]"
   ]
  },
  {
   "cell_type": "code",
   "execution_count": null,
   "id": "6734a3da-7fb4-4280-a5fc-3953f179b386",
   "metadata": {},
   "outputs": [],
   "source": []
  },
  {
   "cell_type": "code",
   "execution_count": null,
   "id": "a4b12f68-8056-4a7f-be4d-87b68549dcbd",
   "metadata": {},
   "outputs": [],
   "source": []
  },
  {
   "cell_type": "code",
   "execution_count": null,
   "id": "15a9718a-3aaf-4dc8-9fc8-a5396142b61e",
   "metadata": {},
   "outputs": [],
   "source": []
  }
 ],
 "metadata": {
  "kernelspec": {
   "display_name": "Python [conda env:base] *",
   "language": "python",
   "name": "conda-base-py"
  },
  "language_info": {
   "codemirror_mode": {
    "name": "ipython",
    "version": 3
   },
   "file_extension": ".py",
   "mimetype": "text/x-python",
   "name": "python",
   "nbconvert_exporter": "python",
   "pygments_lexer": "ipython3",
   "version": "3.12.7"
  }
 },
 "nbformat": 4,
 "nbformat_minor": 5
}
