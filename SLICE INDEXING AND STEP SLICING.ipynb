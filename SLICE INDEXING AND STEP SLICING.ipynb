{
 "cells": [
  {
   "cell_type": "markdown",
   "id": "384f366c-dfd2-4624-98e1-8ff76116c2eb",
   "metadata": {},
   "source": [
    "# SLICING"
   ]
  },
  {
   "cell_type": "markdown",
   "id": "3652bec2-9490-4f25-92b2-c95c391a33ab",
   "metadata": {},
   "source": [
    "# FORWARD SLICING FROM INDEX"
   ]
  },
  {
   "cell_type": "code",
   "execution_count": 9,
   "id": "a0449c3a-7928-471d-b2ef-056d19ba6cb0",
   "metadata": {},
   "outputs": [
    {
     "data": {
      "text/plain": [
       "'praveenkatta'"
      ]
     },
     "execution_count": 9,
     "metadata": {},
     "output_type": "execute_result"
    }
   ],
   "source": [
    "a=\"praveenkatta\"\n",
    "a"
   ]
  },
  {
   "cell_type": "code",
   "execution_count": 11,
   "id": "85a64089-e9e6-4084-b2f0-897a4aec7133",
   "metadata": {},
   "outputs": [
    {
     "data": {
      "text/plain": [
       "'pr'"
      ]
     },
     "execution_count": 11,
     "metadata": {},
     "output_type": "execute_result"
    }
   ],
   "source": [
    "a[0:2]"
   ]
  },
  {
   "cell_type": "code",
   "execution_count": 13,
   "id": "76be6a08-3942-4e50-b02b-1ab7e8e52b86",
   "metadata": {},
   "outputs": [
    {
     "data": {
      "text/plain": [
       "'raveen'"
      ]
     },
     "execution_count": 13,
     "metadata": {},
     "output_type": "execute_result"
    }
   ],
   "source": [
    "a[1:7]"
   ]
  },
  {
   "cell_type": "code",
   "execution_count": 15,
   "id": "c354be2f-d411-44d8-ab12-9f9a0971dec9",
   "metadata": {},
   "outputs": [
    {
     "data": {
      "text/plain": [
       "'praveenkatta'"
      ]
     },
     "execution_count": 15,
     "metadata": {},
     "output_type": "execute_result"
    }
   ],
   "source": [
    "a[:]"
   ]
  },
  {
   "cell_type": "code",
   "execution_count": 17,
   "id": "b2bf282d-1f4b-46f8-b1c8-b06c1299d4bf",
   "metadata": {},
   "outputs": [
    {
     "data": {
      "text/plain": [
       "'pravee'"
      ]
     },
     "execution_count": 17,
     "metadata": {},
     "output_type": "execute_result"
    }
   ],
   "source": [
    "a[:6]"
   ]
  },
  {
   "cell_type": "code",
   "execution_count": 19,
   "id": "01848447-7bb1-473b-bf4c-7ba9ccaf262f",
   "metadata": {},
   "outputs": [
    {
     "data": {
      "text/plain": [
       "'eenkatta'"
      ]
     },
     "execution_count": 19,
     "metadata": {},
     "output_type": "execute_result"
    }
   ],
   "source": [
    "a[4:]"
   ]
  },
  {
   "cell_type": "code",
   "execution_count": 55,
   "id": "d256e0c3-be2a-45fe-8914-54713da28481",
   "metadata": {},
   "outputs": [
    {
     "data": {
      "text/plain": [
       "(1, 2, 3, 4, 5, 6, 7, 'string', (1+3j), 10.5)"
      ]
     },
     "execution_count": 55,
     "metadata": {},
     "output_type": "execute_result"
    }
   ],
   "source": [
    "b=(1,2,3,4,5,6,7,'string',(1+3j),10.5)\n",
    "b"
   ]
  },
  {
   "cell_type": "code",
   "execution_count": 57,
   "id": "9a63c15b-3b05-47d0-a72b-9f44aa89eb17",
   "metadata": {},
   "outputs": [
    {
     "data": {
      "text/plain": [
       "(1, 2, 3, 4, 5, 6, 7, 'string', (1+3j), 10.5)"
      ]
     },
     "execution_count": 57,
     "metadata": {},
     "output_type": "execute_result"
    }
   ],
   "source": [
    "b"
   ]
  },
  {
   "cell_type": "code",
   "execution_count": 59,
   "id": "09c0e9cd-0ea8-47c4-bd1b-c24610f41029",
   "metadata": {},
   "outputs": [
    {
     "data": {
      "text/plain": [
       "(1, 2, 3, 4, 5, 6, 7)"
      ]
     },
     "execution_count": 59,
     "metadata": {},
     "output_type": "execute_result"
    }
   ],
   "source": [
    "b[:7]"
   ]
  },
  {
   "cell_type": "code",
   "execution_count": 61,
   "id": "a63eccb5-559e-4bdb-a277-9e650ff061fe",
   "metadata": {},
   "outputs": [
    {
     "ename": "IndexError",
     "evalue": "tuple index out of range",
     "output_type": "error",
     "traceback": [
      "\u001b[1;31m---------------------------------------------------------------------------\u001b[0m",
      "\u001b[1;31mIndexError\u001b[0m                                Traceback (most recent call last)",
      "Cell \u001b[1;32mIn[61], line 1\u001b[0m\n\u001b[1;32m----> 1\u001b[0m b[\u001b[38;5;241m10\u001b[39m]\n",
      "\u001b[1;31mIndexError\u001b[0m: tuple index out of range"
     ]
    }
   ],
   "source": [
    "b[10]"
   ]
  },
  {
   "cell_type": "code",
   "execution_count": 63,
   "id": "dcdff35d-12cd-4683-bd52-0d73eae4fc04",
   "metadata": {},
   "outputs": [
    {
     "data": {
      "text/plain": [
       "1"
      ]
     },
     "execution_count": 63,
     "metadata": {},
     "output_type": "execute_result"
    }
   ],
   "source": [
    "b[0]"
   ]
  },
  {
   "cell_type": "code",
   "execution_count": 67,
   "id": "b4c6e945-9ffc-49cf-a8c7-bd6d0c0bbae9",
   "metadata": {},
   "outputs": [
    {
     "data": {
      "text/plain": [
       "10.5"
      ]
     },
     "execution_count": 67,
     "metadata": {},
     "output_type": "execute_result"
    }
   ],
   "source": [
    "b[9]"
   ]
  },
  {
   "cell_type": "code",
   "execution_count": 69,
   "id": "eefa5b0e-8ca7-4093-8200-548cc8758a47",
   "metadata": {},
   "outputs": [
    {
     "data": {
      "text/plain": [
       "(1, 2, 3, 4, 5, 6, 7, 'string', (1+3j), 10.5)"
      ]
     },
     "execution_count": 69,
     "metadata": {},
     "output_type": "execute_result"
    }
   ],
   "source": [
    "b[0:10]"
   ]
  },
  {
   "cell_type": "code",
   "execution_count": 72,
   "id": "0db6f8c5-25fc-4a12-a095-41abf7b6b40d",
   "metadata": {},
   "outputs": [
    {
     "data": {
      "text/plain": [
       "(1, 2, 3, 4, 5, 6, 7, 'string', (1+3j), 10.5)"
      ]
     },
     "execution_count": 72,
     "metadata": {},
     "output_type": "execute_result"
    }
   ],
   "source": [
    "b[0:11]"
   ]
  },
  {
   "cell_type": "markdown",
   "id": "0d70702f-a020-48b5-a86a-76c31b261984",
   "metadata": {},
   "source": [
    "# BACKWARD SLICING FROM INDEX"
   ]
  },
  {
   "cell_type": "code",
   "execution_count": 85,
   "id": "3254aa8e-f264-42b0-b338-33c54edda8c1",
   "metadata": {},
   "outputs": [
    {
     "data": {
      "text/plain": [
       "'backwardslicing'"
      ]
     },
     "execution_count": 85,
     "metadata": {},
     "output_type": "execute_result"
    }
   ],
   "source": [
    "s='backwardslicing'\n",
    "s"
   ]
  },
  {
   "cell_type": "code",
   "execution_count": 91,
   "id": "360fc95d-3564-4b0e-8d16-dc740cdb595a",
   "metadata": {},
   "outputs": [
    {
     "data": {
      "text/plain": [
       "'rdsli'"
      ]
     },
     "execution_count": 91,
     "metadata": {},
     "output_type": "execute_result"
    }
   ],
   "source": [
    "s[-9:-4]"
   ]
  },
  {
   "cell_type": "code",
   "execution_count": 93,
   "id": "39981614-4005-4f33-87b6-f7a82fc9c6c5",
   "metadata": {},
   "outputs": [
    {
     "data": {
      "text/plain": [
       "'ackwardslic'"
      ]
     },
     "execution_count": 93,
     "metadata": {},
     "output_type": "execute_result"
    }
   ],
   "source": [
    "s[-14:-3]"
   ]
  },
  {
   "cell_type": "code",
   "execution_count": 97,
   "id": "668b6bf4-1d9d-4307-be63-b6206b54fa4e",
   "metadata": {},
   "outputs": [
    {
     "data": {
      "text/plain": [
       "'backwardslicin'"
      ]
     },
     "execution_count": 97,
     "metadata": {},
     "output_type": "execute_result"
    }
   ],
   "source": [
    "s[-15:-1]"
   ]
  },
  {
   "cell_type": "code",
   "execution_count": 101,
   "id": "5ae0ba6e-fcba-40c2-9da7-e4f259c6635f",
   "metadata": {},
   "outputs": [
    {
     "data": {
      "text/plain": [
       "'backwardslicing'"
      ]
     },
     "execution_count": 101,
     "metadata": {},
     "output_type": "execute_result"
    }
   ],
   "source": [
    "s[:]"
   ]
  },
  {
   "cell_type": "code",
   "execution_count": null,
   "id": "242d5f0a-ca62-4d9b-9d6a-5c18e3538aeb",
   "metadata": {},
   "outputs": [],
   "source": []
  },
  {
   "cell_type": "markdown",
   "id": "ca11a163-885e-4b3f-bdc0-9785590dca0d",
   "metadata": {},
   "source": [
    "# STEP SLICING"
   ]
  },
  {
   "cell_type": "code",
   "execution_count": 105,
   "id": "5a58acae-75e5-413c-b8f0-171b8fb0ecb0",
   "metadata": {},
   "outputs": [
    {
     "data": {
      "text/plain": [
       "'praveenkatta'"
      ]
     },
     "execution_count": 105,
     "metadata": {},
     "output_type": "execute_result"
    }
   ],
   "source": [
    "a"
   ]
  },
  {
   "cell_type": "code",
   "execution_count": 107,
   "id": "7bf8620b-cb3e-47a2-8427-65bd4bd692a9",
   "metadata": {},
   "outputs": [
    {
     "data": {
      "text/plain": [
       "(1, 2, 3, 4, 5, 6, 7, 'string', (1+3j), 10.5)"
      ]
     },
     "execution_count": 107,
     "metadata": {},
     "output_type": "execute_result"
    }
   ],
   "source": [
    "b"
   ]
  },
  {
   "cell_type": "code",
   "execution_count": 109,
   "id": "06e76487-66d7-4430-ae7b-06b0bb3122ab",
   "metadata": {},
   "outputs": [
    {
     "data": {
      "text/plain": [
       "'pvnt'"
      ]
     },
     "execution_count": 109,
     "metadata": {},
     "output_type": "execute_result"
    }
   ],
   "source": [
    "a[::3]"
   ]
  },
  {
   "cell_type": "code",
   "execution_count": 111,
   "id": "eff450b6-eead-4b76-b8a9-a881361c8efb",
   "metadata": {},
   "outputs": [
    {
     "data": {
      "text/plain": [
       "(2, 6)"
      ]
     },
     "execution_count": 111,
     "metadata": {},
     "output_type": "execute_result"
    }
   ],
   "source": [
    "b[1:9:4]"
   ]
  },
  {
   "cell_type": "code",
   "execution_count": 113,
   "id": "5246cdfb-6650-403f-a6d3-647ad98f29c1",
   "metadata": {},
   "outputs": [
    {
     "data": {
      "text/plain": [
       "(2, 5, 'string')"
      ]
     },
     "execution_count": 113,
     "metadata": {},
     "output_type": "execute_result"
    }
   ],
   "source": [
    "b[1:9:3]"
   ]
  },
  {
   "cell_type": "code",
   "execution_count": 115,
   "id": "16183b8e-e8ec-44e7-b661-f948660d773a",
   "metadata": {},
   "outputs": [
    {
     "data": {
      "text/plain": [
       "(2, 3, 4, 5, 6, 7, 'string', (1+3j))"
      ]
     },
     "execution_count": 115,
     "metadata": {},
     "output_type": "execute_result"
    }
   ],
   "source": [
    "b[1:9:1]"
   ]
  },
  {
   "cell_type": "code",
   "execution_count": 117,
   "id": "f9c837e4-c1c6-495a-b5f4-2668739bd7e0",
   "metadata": {},
   "outputs": [
    {
     "data": {
      "text/plain": [
       "'aaea'"
      ]
     },
     "execution_count": 117,
     "metadata": {},
     "output_type": "execute_result"
    }
   ],
   "source": [
    "a[::-3]"
   ]
  },
  {
   "cell_type": "code",
   "execution_count": 119,
   "id": "8636a23c-92d9-4216-aafd-bb89ca66345d",
   "metadata": {},
   "outputs": [
    {
     "data": {
      "text/plain": [
       "(1, 3, 5, 7, (1+3j))"
      ]
     },
     "execution_count": 119,
     "metadata": {},
     "output_type": "execute_result"
    }
   ],
   "source": [
    "b[-10:-1:2]"
   ]
  },
  {
   "cell_type": "code",
   "execution_count": 121,
   "id": "c78257bb-a32f-4c13-aec9-3aeb98cdf6a9",
   "metadata": {},
   "outputs": [
    {
     "data": {
      "text/plain": [
       "(10.5, (1+3j), 'string', 7, 6, 5, 4, 3, 2, 1)"
      ]
     },
     "execution_count": 121,
     "metadata": {},
     "output_type": "execute_result"
    }
   ],
   "source": [
    "b[::-1]"
   ]
  },
  {
   "cell_type": "code",
   "execution_count": 123,
   "id": "57673130-f478-4ce4-b65d-e595c1745f62",
   "metadata": {},
   "outputs": [
    {
     "data": {
      "text/plain": [
       "'praveenkatta'"
      ]
     },
     "execution_count": 123,
     "metadata": {},
     "output_type": "execute_result"
    }
   ],
   "source": [
    "a[::1]"
   ]
  },
  {
   "cell_type": "code",
   "execution_count": null,
   "id": "a1a2a2a7-c385-40fe-92ca-b36461277d0f",
   "metadata": {},
   "outputs": [],
   "source": []
  }
 ],
 "metadata": {
  "kernelspec": {
   "display_name": "Python [conda env:base] *",
   "language": "python",
   "name": "conda-base-py"
  },
  "language_info": {
   "codemirror_mode": {
    "name": "ipython",
    "version": 3
   },
   "file_extension": ".py",
   "mimetype": "text/x-python",
   "name": "python",
   "nbconvert_exporter": "python",
   "pygments_lexer": "ipython3",
   "version": "3.12.7"
  }
 },
 "nbformat": 4,
 "nbformat_minor": 5
}
