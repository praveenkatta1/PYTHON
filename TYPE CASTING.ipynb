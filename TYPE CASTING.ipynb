{
 "cells": [
  {
   "cell_type": "markdown",
   "id": "1fed744f-19ba-4178-b61d-8de1095fbdae",
   "metadata": {},
   "source": [
    "# TYPE CASTING"
   ]
  },
  {
   "cell_type": "markdown",
   "id": "43ee56a6-aaa1-4fbe-aefd-71e782906570",
   "metadata": {},
   "source": [
    "CONVERTING FROM ONE DATA TYPE TO ANOTHER DATA TYPE\n",
    "\n",
    "\n",
    "FROM ALL OTHER DATATYPE TO INT, OR COMPLEX, FLOAT, BOOL,"
   ]
  },
  {
   "cell_type": "markdown",
   "id": "a050a864-c435-4608-864a-d972a3a3b046",
   "metadata": {},
   "source": [
    "# INTEGER"
   ]
  },
  {
   "cell_type": "code",
   "execution_count": 6,
   "id": "9bcedf78-396e-4d07-8339-dce46ec740f4",
   "metadata": {},
   "outputs": [
    {
     "data": {
      "text/plain": [
       "1"
      ]
     },
     "execution_count": 6,
     "metadata": {},
     "output_type": "execute_result"
    }
   ],
   "source": [
    "int(1)"
   ]
  },
  {
   "cell_type": "code",
   "execution_count": 8,
   "id": "8d50876f-3cf9-411d-a6fd-dca17c2ba696",
   "metadata": {},
   "outputs": [
    {
     "data": {
      "text/plain": [
       "2"
      ]
     },
     "execution_count": 8,
     "metadata": {},
     "output_type": "execute_result"
    }
   ],
   "source": [
    "int(2.3) # float "
   ]
  },
  {
   "cell_type": "code",
   "execution_count": 10,
   "id": "9961bc79-111c-45a8-aeb6-eaffaa480168",
   "metadata": {},
   "outputs": [
    {
     "ename": "ValueError",
     "evalue": "invalid literal for int() with base 10: 'praveen'",
     "output_type": "error",
     "traceback": [
      "\u001b[1;31m---------------------------------------------------------------------------\u001b[0m",
      "\u001b[1;31mValueError\u001b[0m                                Traceback (most recent call last)",
      "Cell \u001b[1;32mIn[10], line 1\u001b[0m\n\u001b[1;32m----> 1\u001b[0m \u001b[38;5;28mint\u001b[39m(\u001b[38;5;124m'\u001b[39m\u001b[38;5;124mpraveen\u001b[39m\u001b[38;5;124m'\u001b[39m)\n",
      "\u001b[1;31mValueError\u001b[0m: invalid literal for int() with base 10: 'praveen'"
     ]
    }
   ],
   "source": [
    "int('praveen') # string"
   ]
  },
  {
   "cell_type": "code",
   "execution_count": 12,
   "id": "2554f429-730f-4130-8310-77ef0474dd05",
   "metadata": {},
   "outputs": [
    {
     "data": {
      "text/plain": [
       "20"
      ]
     },
     "execution_count": 12,
     "metadata": {},
     "output_type": "execute_result"
    }
   ],
   "source": [
    "int('20')  # string"
   ]
  },
  {
   "cell_type": "code",
   "execution_count": 14,
   "id": "8b0ab4be-d454-46e0-9d6d-12ac95bde1d5",
   "metadata": {},
   "outputs": [
    {
     "ename": "TypeError",
     "evalue": "int() argument must be a string, a bytes-like object or a real number, not 'complex'",
     "output_type": "error",
     "traceback": [
      "\u001b[1;31m---------------------------------------------------------------------------\u001b[0m",
      "\u001b[1;31mTypeError\u001b[0m                                 Traceback (most recent call last)",
      "Cell \u001b[1;32mIn[14], line 1\u001b[0m\n\u001b[1;32m----> 1\u001b[0m \u001b[38;5;28mint\u001b[39m(\u001b[38;5;241m20\u001b[39m\u001b[38;5;241m+\u001b[39m\u001b[38;5;241m2\u001b[39mj)\n",
      "\u001b[1;31mTypeError\u001b[0m: int() argument must be a string, a bytes-like object or a real number, not 'complex'"
     ]
    }
   ],
   "source": [
    "int(20+2j)"
   ]
  },
  {
   "cell_type": "code",
   "execution_count": 38,
   "id": "d695e74c-47a0-4a4e-8662-b0bb3542380e",
   "metadata": {},
   "outputs": [
    {
     "ename": "TypeError",
     "evalue": "int() argument must be a string, a bytes-like object or a real number, not 'complex'",
     "output_type": "error",
     "traceback": [
      "\u001b[1;31m---------------------------------------------------------------------------\u001b[0m",
      "\u001b[1;31mTypeError\u001b[0m                                 Traceback (most recent call last)",
      "Cell \u001b[1;32mIn[38], line 1\u001b[0m\n\u001b[1;32m----> 1\u001b[0m \u001b[38;5;28mint\u001b[39m(\u001b[38;5;241m10\u001b[39m\u001b[38;5;241m+\u001b[39m\u001b[38;5;241m2\u001b[39mj)\n",
      "\u001b[1;31mTypeError\u001b[0m: int() argument must be a string, a bytes-like object or a real number, not 'complex'"
     ]
    }
   ],
   "source": [
    " int(10+2j)  #complex"
   ]
  },
  {
   "cell_type": "code",
   "execution_count": 65,
   "id": "053ac0b8-d8bd-4fe2-80fc-7bfe8f1f3b1d",
   "metadata": {},
   "outputs": [
    {
     "data": {
      "text/plain": [
       "1"
      ]
     },
     "execution_count": 65,
     "metadata": {},
     "output_type": "execute_result"
    }
   ],
   "source": [
    "int(True) #boolean"
   ]
  },
  {
   "cell_type": "code",
   "execution_count": 67,
   "id": "507e84cf-cee8-41ca-b4ae-03aa99cc2a10",
   "metadata": {},
   "outputs": [
    {
     "data": {
      "text/plain": [
       "0"
      ]
     },
     "execution_count": 67,
     "metadata": {},
     "output_type": "execute_result"
    }
   ],
   "source": [
    "int(False)"
   ]
  },
  {
   "cell_type": "markdown",
   "id": "f25ad590-0ba1-4cb1-b535-99dc488a9c11",
   "metadata": {},
   "source": [
    "# FLOAT"
   ]
  },
  {
   "cell_type": "code",
   "execution_count": 24,
   "id": "d8e424b8-79ae-4503-87b1-a343b69f2450",
   "metadata": {},
   "outputs": [
    {
     "data": {
      "text/plain": [
       "10.0"
      ]
     },
     "execution_count": 24,
     "metadata": {},
     "output_type": "execute_result"
    }
   ],
   "source": [
    "float(10)  #integer"
   ]
  },
  {
   "cell_type": "code",
   "execution_count": 26,
   "id": "b1ea9a80-3169-4cfa-8b2c-670ef247548f",
   "metadata": {},
   "outputs": [
    {
     "data": {
      "text/plain": [
       "20.4"
      ]
     },
     "execution_count": 26,
     "metadata": {},
     "output_type": "execute_result"
    }
   ],
   "source": [
    "float(20.4)"
   ]
  },
  {
   "cell_type": "code",
   "execution_count": 36,
   "id": "17959e52-c24a-4188-b6c8-fde776449d74",
   "metadata": {},
   "outputs": [
    {
     "data": {
      "text/plain": [
       "20.0"
      ]
     },
     "execution_count": 36,
     "metadata": {},
     "output_type": "execute_result"
    }
   ],
   "source": [
    "float('20') #string"
   ]
  },
  {
   "cell_type": "code",
   "execution_count": 34,
   "id": "06f7c107-897e-4bf3-9c0b-16ae239678e9",
   "metadata": {},
   "outputs": [
    {
     "ename": "ValueError",
     "evalue": "could not convert string to float: 'twenty'",
     "output_type": "error",
     "traceback": [
      "\u001b[1;31m---------------------------------------------------------------------------\u001b[0m",
      "\u001b[1;31mValueError\u001b[0m                                Traceback (most recent call last)",
      "Cell \u001b[1;32mIn[34], line 1\u001b[0m\n\u001b[1;32m----> 1\u001b[0m \u001b[38;5;28mfloat\u001b[39m(\u001b[38;5;124m'\u001b[39m\u001b[38;5;124mtwenty\u001b[39m\u001b[38;5;124m'\u001b[39m)\n",
      "\u001b[1;31mValueError\u001b[0m: could not convert string to float: 'twenty'"
     ]
    }
   ],
   "source": [
    "float('twenty') # string"
   ]
  },
  {
   "cell_type": "code",
   "execution_count": 41,
   "id": "0eacfd8d-612f-4619-95cd-7b1627754ec9",
   "metadata": {},
   "outputs": [
    {
     "ename": "TypeError",
     "evalue": "float() argument must be a string or a real number, not 'complex'",
     "output_type": "error",
     "traceback": [
      "\u001b[1;31m---------------------------------------------------------------------------\u001b[0m",
      "\u001b[1;31mTypeError\u001b[0m                                 Traceback (most recent call last)",
      "Cell \u001b[1;32mIn[41], line 1\u001b[0m\n\u001b[1;32m----> 1\u001b[0m \u001b[38;5;28mfloat\u001b[39m(\u001b[38;5;241m20\u001b[39m\u001b[38;5;241m+\u001b[39m\u001b[38;5;241m30\u001b[39mj)\n",
      "\u001b[1;31mTypeError\u001b[0m: float() argument must be a string or a real number, not 'complex'"
     ]
    }
   ],
   "source": [
    "float(20+30j)  #complex"
   ]
  },
  {
   "cell_type": "code",
   "execution_count": 69,
   "id": "b4aa3091-a1dd-43d2-b756-8be9b17f5453",
   "metadata": {},
   "outputs": [
    {
     "data": {
      "text/plain": [
       "1.0"
      ]
     },
     "execution_count": 69,
     "metadata": {},
     "output_type": "execute_result"
    }
   ],
   "source": [
    "float(True) # boolean"
   ]
  },
  {
   "cell_type": "code",
   "execution_count": 71,
   "id": "e7a3c755-7924-4f77-a4f1-c9dcef807f59",
   "metadata": {},
   "outputs": [
    {
     "data": {
      "text/plain": [
       "0.0"
      ]
     },
     "execution_count": 71,
     "metadata": {},
     "output_type": "execute_result"
    }
   ],
   "source": [
    "float(False)"
   ]
  },
  {
   "cell_type": "markdown",
   "id": "bb3288ae-b92d-4d77-ab6e-0b314d667a83",
   "metadata": {},
   "source": [
    "# STRING"
   ]
  },
  {
   "cell_type": "code",
   "execution_count": 51,
   "id": "c1d2631b-1aac-4704-9b8c-2a8f1bc4500a",
   "metadata": {},
   "outputs": [
    {
     "data": {
      "text/plain": [
       "'praveen'"
      ]
     },
     "execution_count": 51,
     "metadata": {},
     "output_type": "execute_result"
    }
   ],
   "source": [
    "str(\"praveen\")"
   ]
  },
  {
   "cell_type": "code",
   "execution_count": 55,
   "id": "7b0d9b2d-c399-4aea-9d5c-6fa957723559",
   "metadata": {},
   "outputs": [
    {
     "data": {
      "text/plain": [
       "'10'"
      ]
     },
     "execution_count": 55,
     "metadata": {},
     "output_type": "execute_result"
    }
   ],
   "source": [
    "str(10)  # int"
   ]
  },
  {
   "cell_type": "code",
   "execution_count": 57,
   "id": "332aa89b-9513-4846-b9a9-0abf76df6571",
   "metadata": {},
   "outputs": [
    {
     "data": {
      "text/plain": [
       "'20.5'"
      ]
     },
     "execution_count": 57,
     "metadata": {},
     "output_type": "execute_result"
    }
   ],
   "source": [
    "str(20.5) # float"
   ]
  },
  {
   "cell_type": "code",
   "execution_count": 59,
   "id": "668ff3ad-4830-42dd-b440-c33daacb6394",
   "metadata": {},
   "outputs": [
    {
     "data": {
      "text/plain": [
       "'(20+30j)'"
      ]
     },
     "execution_count": 59,
     "metadata": {},
     "output_type": "execute_result"
    }
   ],
   "source": [
    "str(20+30j) # complex"
   ]
  },
  {
   "cell_type": "code",
   "execution_count": 73,
   "id": "19500098-230f-4d43-b237-b56d048d1ac1",
   "metadata": {},
   "outputs": [
    {
     "data": {
      "text/plain": [
       "'True'"
      ]
     },
     "execution_count": 73,
     "metadata": {},
     "output_type": "execute_result"
    }
   ],
   "source": [
    "str(True) #boolean"
   ]
  },
  {
   "cell_type": "code",
   "execution_count": 75,
   "id": "06da677b-02ba-4945-a9e3-1b7e423aa40a",
   "metadata": {},
   "outputs": [
    {
     "data": {
      "text/plain": [
       "'False'"
      ]
     },
     "execution_count": 75,
     "metadata": {},
     "output_type": "execute_result"
    }
   ],
   "source": [
    "str(False)"
   ]
  },
  {
   "cell_type": "markdown",
   "id": "caecc289-7ed3-431f-9b6d-4acb1cff93d9",
   "metadata": {},
   "source": [
    "# complex"
   ]
  },
  {
   "cell_type": "code",
   "execution_count": 78,
   "id": "c2fbf9cc-a0f7-409f-a622-fca3195ad950",
   "metadata": {},
   "outputs": [
    {
     "data": {
      "text/plain": [
       "(1+0j)"
      ]
     },
     "execution_count": 78,
     "metadata": {},
     "output_type": "execute_result"
    }
   ],
   "source": [
    "complex(1) #int"
   ]
  },
  {
   "cell_type": "code",
   "execution_count": 80,
   "id": "b3a32f50-7cb9-438d-ac85-733de7ded415",
   "metadata": {},
   "outputs": [
    {
     "data": {
      "text/plain": [
       "(20.5+0j)"
      ]
     },
     "execution_count": 80,
     "metadata": {},
     "output_type": "execute_result"
    }
   ],
   "source": [
    "complex(20.5) #float"
   ]
  },
  {
   "cell_type": "code",
   "execution_count": 88,
   "id": "300fd442-5105-4fc6-8542-963d65474bce",
   "metadata": {},
   "outputs": [
    {
     "data": {
      "text/plain": [
       "(20+25j)"
      ]
     },
     "execution_count": 88,
     "metadata": {},
     "output_type": "execute_result"
    }
   ],
   "source": [
    "complex(20,25)  # int"
   ]
  },
  {
   "cell_type": "code",
   "execution_count": 90,
   "id": "2209b227-d760-4618-9fca-058e82683c2c",
   "metadata": {},
   "outputs": [
    {
     "data": {
      "text/plain": [
       "(29.2+38.5j)"
      ]
     },
     "execution_count": 90,
     "metadata": {},
     "output_type": "execute_result"
    }
   ],
   "source": [
    "complex(29.2,38.5)  #float"
   ]
  },
  {
   "cell_type": "code",
   "execution_count": 92,
   "id": "5ef2b513-7cb8-4b9b-b951-8f6289369ce0",
   "metadata": {},
   "outputs": [
    {
     "ename": "ValueError",
     "evalue": "complex() arg is a malformed string",
     "output_type": "error",
     "traceback": [
      "\u001b[1;31m---------------------------------------------------------------------------\u001b[0m",
      "\u001b[1;31mValueError\u001b[0m                                Traceback (most recent call last)",
      "Cell \u001b[1;32mIn[92], line 1\u001b[0m\n\u001b[1;32m----> 1\u001b[0m \u001b[38;5;28mcomplex\u001b[39m(\u001b[38;5;124m\"\u001b[39m\u001b[38;5;124mpython\u001b[39m\u001b[38;5;124m\"\u001b[39m)\n",
      "\u001b[1;31mValueError\u001b[0m: complex() arg is a malformed string"
     ]
    }
   ],
   "source": [
    "complex(\"python\")  # string"
   ]
  },
  {
   "cell_type": "code",
   "execution_count": 106,
   "id": "3dd73ffb-f61c-46c8-b833-8a04ec656f8c",
   "metadata": {},
   "outputs": [
    {
     "ename": "TypeError",
     "evalue": "complex() can't take second arg if first is a string",
     "output_type": "error",
     "traceback": [
      "\u001b[1;31m---------------------------------------------------------------------------\u001b[0m",
      "\u001b[1;31mTypeError\u001b[0m                                 Traceback (most recent call last)",
      "Cell \u001b[1;32mIn[106], line 1\u001b[0m\n\u001b[1;32m----> 1\u001b[0m \u001b[38;5;28mcomplex\u001b[39m(\u001b[38;5;124m\"\u001b[39m\u001b[38;5;124m20\u001b[39m\u001b[38;5;124m\"\u001b[39m,\u001b[38;5;124m\"\u001b[39m\u001b[38;5;124m30\u001b[39m\u001b[38;5;124m\"\u001b[39m)\n",
      "\u001b[1;31mTypeError\u001b[0m: complex() can't take second arg if first is a string"
     ]
    }
   ],
   "source": [
    "complex(\"20\",\"30\")"
   ]
  },
  {
   "cell_type": "code",
   "execution_count": 108,
   "id": "ce10485f-e627-403b-a316-982302abf64c",
   "metadata": {},
   "outputs": [
    {
     "data": {
      "text/plain": [
       "(20+0j)"
      ]
     },
     "execution_count": 108,
     "metadata": {},
     "output_type": "execute_result"
    }
   ],
   "source": [
    "complex(\"20\")"
   ]
  },
  {
   "cell_type": "code",
   "execution_count": 104,
   "id": "c74d92f8-09ae-4040-b51d-7d9836977e8b",
   "metadata": {},
   "outputs": [
    {
     "data": {
      "text/plain": [
       "(1+0j)"
      ]
     },
     "execution_count": 104,
     "metadata": {},
     "output_type": "execute_result"
    }
   ],
   "source": [
    "complex(True)    #boolean"
   ]
  },
  {
   "cell_type": "code",
   "execution_count": 102,
   "id": "359c1c46-d565-4238-9776-2b0097548170",
   "metadata": {},
   "outputs": [
    {
     "data": {
      "text/plain": [
       "0j"
      ]
     },
     "execution_count": 102,
     "metadata": {},
     "output_type": "execute_result"
    }
   ],
   "source": [
    "complex(False)"
   ]
  },
  {
   "cell_type": "code",
   "execution_count": null,
   "id": "b7555dd0-b3cc-431c-8fa8-c091ddb26ddb",
   "metadata": {},
   "outputs": [],
   "source": [
    "\n"
   ]
  },
  {
   "cell_type": "markdown",
   "id": "00adffdf-27f2-4243-a980-8e06c09d465a",
   "metadata": {},
   "source": [
    "# BOOLEAN"
   ]
  },
  {
   "cell_type": "code",
   "execution_count": 111,
   "id": "5a98abee-ed00-449a-94c5-1db094c25734",
   "metadata": {},
   "outputs": [
    {
     "data": {
      "text/plain": [
       "True"
      ]
     },
     "execution_count": 111,
     "metadata": {},
     "output_type": "execute_result"
    }
   ],
   "source": [
    "bool(1)  # integer"
   ]
  },
  {
   "cell_type": "code",
   "execution_count": 113,
   "id": "46f3219f-b531-404c-ab67-e2513264916a",
   "metadata": {},
   "outputs": [
    {
     "data": {
      "text/plain": [
       "True"
      ]
     },
     "execution_count": 113,
     "metadata": {},
     "output_type": "execute_result"
    }
   ],
   "source": [
    "bool(20) "
   ]
  },
  {
   "cell_type": "code",
   "execution_count": 115,
   "id": "7c2ba1de-a1e5-4552-98e8-06e9f9acf61b",
   "metadata": {},
   "outputs": [
    {
     "data": {
      "text/plain": [
       "True"
      ]
     },
     "execution_count": 115,
     "metadata": {},
     "output_type": "execute_result"
    }
   ],
   "source": [
    "bool(20.5) #float"
   ]
  },
  {
   "cell_type": "code",
   "execution_count": 117,
   "id": "b7528add-64d7-46e3-b9ad-ab9d571d13e5",
   "metadata": {},
   "outputs": [
    {
     "data": {
      "text/plain": [
       "True"
      ]
     },
     "execution_count": 117,
     "metadata": {},
     "output_type": "execute_result"
    }
   ],
   "source": [
    "bool(1+2j)  #complex"
   ]
  },
  {
   "cell_type": "code",
   "execution_count": 119,
   "id": "d920beb8-1116-467c-b9e0-74398a1d838e",
   "metadata": {},
   "outputs": [
    {
     "data": {
      "text/plain": [
       "False"
      ]
     },
     "execution_count": 119,
     "metadata": {},
     "output_type": "execute_result"
    }
   ],
   "source": [
    "bool(0) "
   ]
  },
  {
   "cell_type": "code",
   "execution_count": 121,
   "id": "89a14bd4-3bd2-4f30-bb85-34ccf2fdff9b",
   "metadata": {},
   "outputs": [
    {
     "data": {
      "text/plain": [
       "True"
      ]
     },
     "execution_count": 121,
     "metadata": {},
     "output_type": "execute_result"
    }
   ],
   "source": [
    "bool(\"mango\") #string"
   ]
  },
  {
   "cell_type": "code",
   "execution_count": 123,
   "id": "eee5bddd-4e4a-4c20-a07c-65b0ed7200d7",
   "metadata": {},
   "outputs": [
    {
     "data": {
      "text/plain": [
       "False"
      ]
     },
     "execution_count": 123,
     "metadata": {},
     "output_type": "execute_result"
    }
   ],
   "source": [
    "  bool()"
   ]
  },
  {
   "cell_type": "code",
   "execution_count": null,
   "id": "ac653131-5aa1-467f-ab86-276f170fad28",
   "metadata": {},
   "outputs": [],
   "source": []
  }
 ],
 "metadata": {
  "kernelspec": {
   "display_name": "Python [conda env:base] *",
   "language": "python",
   "name": "conda-base-py"
  },
  "language_info": {
   "codemirror_mode": {
    "name": "ipython",
    "version": 3
   },
   "file_extension": ".py",
   "mimetype": "text/x-python",
   "name": "python",
   "nbconvert_exporter": "python",
   "pygments_lexer": "ipython3",
   "version": "3.12.7"
  }
 },
 "nbformat": 4,
 "nbformat_minor": 5
}
