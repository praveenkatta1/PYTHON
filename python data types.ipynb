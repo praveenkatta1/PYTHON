{
 "cells": [
  {
   "cell_type": "markdown",
   "id": "5e743cc4-8445-43bb-a5b4-8e1d598a18e5",
   "metadata": {},
   "source": [
    "PYTHON BASICS\n"
   ]
  },
  {
   "cell_type": "markdown",
   "id": "2fb58c11-3637-488d-9fb7-607f7b49b004",
   "metadata": {},
   "source": [
    "INTEGER"
   ]
  },
  {
   "cell_type": "markdown",
   "id": "4dabb624-2e01-42a0-ac76-b35849a379e5",
   "metadata": {},
   "source": [
    "INTEGER IS A WHOLE NUMBER ,POSTIVE NUMBER,NEGATIVE NUMBER,WITHOUT DECIMAL  EG:- {-INFINITY TO + INFIITY} OR {.........-3,-2,-1,O,1,2,3,4,..........}"
   ]
  },
  {
   "cell_type": "code",
   "execution_count": 311,
   "id": "1460e062-1a0b-4786-8981-1ad0d8e1f7f1",
   "metadata": {},
   "outputs": [
    {
     "data": {
      "text/plain": [
       "int"
      ]
     },
     "execution_count": 311,
     "metadata": {},
     "output_type": "execute_result"
    }
   ],
   "source": [
    "type(a)"
   ]
  },
  {
   "cell_type": "code",
   "execution_count": 313,
   "id": "7146a7d8-4f43-436c-a079-895c70a94dc8",
   "metadata": {},
   "outputs": [
    {
     "data": {
      "text/plain": [
       "2"
      ]
     },
     "execution_count": 313,
     "metadata": {},
     "output_type": "execute_result"
    }
   ],
   "source": [
    "b=2\n",
    "b"
   ]
  },
  {
   "cell_type": "code",
   "execution_count": 315,
   "id": "fc43413c-6534-4ae1-8190-f7365e35e285",
   "metadata": {},
   "outputs": [
    {
     "data": {
      "text/plain": [
       "7"
      ]
     },
     "execution_count": 315,
     "metadata": {},
     "output_type": "execute_result"
    }
   ],
   "source": [
    "c=a+b\n",
    "c"
   ]
  },
  {
   "cell_type": "code",
   "execution_count": 317,
   "id": "e2c6c17f-bf3b-4030-b53f-4b827a679044",
   "metadata": {},
   "outputs": [
    {
     "data": {
      "text/plain": [
       "int"
      ]
     },
     "execution_count": 317,
     "metadata": {},
     "output_type": "execute_result"
    }
   ],
   "source": [
    "type(c)"
   ]
  },
  {
   "cell_type": "code",
   "execution_count": 319,
   "id": "c81e5c2f-a73e-4952-9594-9b5b097d10c3",
   "metadata": {},
   "outputs": [
    {
     "data": {
      "text/plain": [
       "-2"
      ]
     },
     "execution_count": 319,
     "metadata": {},
     "output_type": "execute_result"
    }
   ],
   "source": [
    "d=a-c\n",
    "d"
   ]
  },
  {
   "cell_type": "code",
   "execution_count": 321,
   "id": "03ac6233-f028-40e6-a885-626b8531fbcf",
   "metadata": {},
   "outputs": [
    {
     "data": {
      "text/plain": [
       "int"
      ]
     },
     "execution_count": 321,
     "metadata": {},
     "output_type": "execute_result"
    }
   ],
   "source": [
    "type(d)"
   ]
  },
  {
   "cell_type": "code",
   "execution_count": 323,
   "id": "6aac40d3-701c-4405-be7e-4159bd4428b2",
   "metadata": {},
   "outputs": [
    {
     "ename": "SyntaxError",
     "evalue": "invalid decimal literal (1954588907.py, line 1)",
     "output_type": "error",
     "traceback": [
      "\u001b[1;36m  Cell \u001b[1;32mIn[323], line 1\u001b[1;36m\u001b[0m\n\u001b[1;33m    2d=15 # we cannot write number before variable\u001b[0m\n\u001b[1;37m    ^\u001b[0m\n\u001b[1;31mSyntaxError\u001b[0m\u001b[1;31m:\u001b[0m invalid decimal literal\n"
     ]
    }
   ],
   "source": [
    "2d=15 # we cannot write number before variable \n"
   ]
  },
  {
   "cell_type": "code",
   "execution_count": 19,
   "id": "f26d567d-279d-4a47-ae6e-68313ea8fa14",
   "metadata": {},
   "outputs": [
    {
     "data": {
      "text/plain": [
       "26"
      ]
     },
     "execution_count": 19,
     "metadata": {},
     "output_type": "execute_result"
    }
   ],
   "source": [
    "d1=26 # WE CANWRITE AFTER VARIABLE\n",
    "d1"
   ]
  },
  {
   "cell_type": "code",
   "execution_count": 23,
   "id": "eb035262-945a-4333-a464-40b7d837ccce",
   "metadata": {},
   "outputs": [
    {
     "data": {
      "text/plain": [
       "186.0"
      ]
     },
     "execution_count": 23,
     "metadata": {},
     "output_type": "execute_result"
    }
   ],
   "source": [
    "f=d1*c+ d/b+ a\n",
    "f"
   ]
  },
  {
   "cell_type": "code",
   "execution_count": 25,
   "id": "b805cb4a-7418-4b85-a985-b36a10db7d3f",
   "metadata": {},
   "outputs": [
    {
     "data": {
      "text/plain": [
       "float"
      ]
     },
     "execution_count": 25,
     "metadata": {},
     "output_type": "execute_result"
    }
   ],
   "source": [
    "type(f)"
   ]
  },
  {
   "cell_type": "code",
   "execution_count": 29,
   "id": "e8912a31-c326-4dde-b666-87c52cb2f96a",
   "metadata": {},
   "outputs": [
    {
     "data": {
      "text/plain": [
       "186"
      ]
     },
     "execution_count": 29,
     "metadata": {},
     "output_type": "execute_result"
    }
   ],
   "source": [
    "int(f)"
   ]
  },
  {
   "cell_type": "code",
   "execution_count": 42,
   "id": "91ed43a5-107a-402f-a444-b069fd5dce6c",
   "metadata": {},
   "outputs": [
    {
     "data": {
      "text/plain": [
       "10.5"
      ]
     },
     "execution_count": 42,
     "metadata": {},
     "output_type": "execute_result"
    }
   ],
   "source": [
    "d3=10.5\n",
    "d3"
   ]
  },
  {
   "cell_type": "code",
   "execution_count": 44,
   "id": "686c0da5-9d5f-4098-830c-0e39340707a9",
   "metadata": {},
   "outputs": [
    {
     "data": {
      "text/plain": [
       "10"
      ]
     },
     "execution_count": 44,
     "metadata": {},
     "output_type": "execute_result"
    }
   ],
   "source": [
    "int(d3)"
   ]
  },
  {
   "cell_type": "code",
   "execution_count": null,
   "id": "7c961b72-6810-4e8b-babd-e1908d7aad6c",
   "metadata": {},
   "outputs": [],
   "source": []
  },
  {
   "cell_type": "markdown",
   "id": "a0d8cd67-1312-42f9-8293-af4fd9ee437c",
   "metadata": {},
   "source": [
    "FLOAT TYPE"
   ]
  },
  {
   "cell_type": "markdown",
   "id": "d905c8f3-3508-4f95-80b7-5f9af1457c77",
   "metadata": {},
   "source": [
    "FLOAT IS A DATA TYPE WHICH IS STORED IN POSTIVE AND NEGATIVE NUMBER WITH DECIMAL POINT. FOR EXAMPLE;-\n",
    "10.5,7.0,.........ETC WITH DECIMAL FORM"
   ]
  },
  {
   "cell_type": "code",
   "execution_count": 37,
   "id": "ec3b4951-8f50-47f6-8595-58795854f55f",
   "metadata": {},
   "outputs": [],
   "source": [
    "g=10.5\n"
   ]
  },
  {
   "cell_type": "code",
   "execution_count": 39,
   "id": "58704146-00d9-4c4f-b670-595b5d0ce31b",
   "metadata": {},
   "outputs": [
    {
     "data": {
      "text/plain": [
       "float"
      ]
     },
     "execution_count": 39,
     "metadata": {},
     "output_type": "execute_result"
    }
   ],
   "source": [
    "type(g)"
   ]
  },
  {
   "cell_type": "code",
   "execution_count": 46,
   "id": "05b30ffb-f344-48b0-8eb5-8e8571627258",
   "metadata": {},
   "outputs": [
    {
     "data": {
      "text/plain": [
       "20"
      ]
     },
     "execution_count": 46,
     "metadata": {},
     "output_type": "execute_result"
    }
   ],
   "source": [
    "h=20\n",
    "h"
   ]
  },
  {
   "cell_type": "code",
   "execution_count": 48,
   "id": "dbd4baf4-a3f8-4576-9575-fcd1da446d09",
   "metadata": {},
   "outputs": [
    {
     "data": {
      "text/plain": [
       "20.0"
      ]
     },
     "execution_count": 48,
     "metadata": {},
     "output_type": "execute_result"
    }
   ],
   "source": [
    "float(h)"
   ]
  },
  {
   "cell_type": "code",
   "execution_count": 50,
   "id": "2d38c9db-67b2-4109-946c-e8bba0fc8570",
   "metadata": {},
   "outputs": [
    {
     "data": {
      "text/plain": [
       "30.5"
      ]
     },
     "execution_count": 50,
     "metadata": {},
     "output_type": "execute_result"
    }
   ],
   "source": [
    "f=h+g\n",
    "f"
   ]
  },
  {
   "cell_type": "code",
   "execution_count": 52,
   "id": "7b7c5997-d221-4803-974a-e58843c4973f",
   "metadata": {},
   "outputs": [
    {
     "data": {
      "text/plain": [
       "float"
      ]
     },
     "execution_count": 52,
     "metadata": {},
     "output_type": "execute_result"
    }
   ],
   "source": [
    "type(f)"
   ]
  },
  {
   "cell_type": "code",
   "execution_count": 66,
   "id": "59e1f5df-e1a8-4988-82ad-7309cfea9654",
   "metadata": {},
   "outputs": [
    {
     "data": {
      "text/plain": [
       "20.0"
      ]
     },
     "execution_count": 66,
     "metadata": {},
     "output_type": "execute_result"
    }
   ],
   "source": [
    "f1=2e1\n",
    "f1"
   ]
  },
  {
   "cell_type": "code",
   "execution_count": 70,
   "id": "4441f96d-e2d4-47c1-a611-0aff18033214",
   "metadata": {},
   "outputs": [
    {
     "data": {
      "text/plain": [
       "10000.0"
      ]
     },
     "execution_count": 70,
     "metadata": {},
     "output_type": "execute_result"
    }
   ],
   "source": [
    "f2=1e4\n",
    "f2"
   ]
  },
  {
   "cell_type": "code",
   "execution_count": 80,
   "id": "ebde12fe-6711-47ac-a6fa-10e1f41fa1f7",
   "metadata": {},
   "outputs": [
    {
     "ename": "NameError",
     "evalue": "name 'e4' is not defined",
     "output_type": "error",
     "traceback": [
      "\u001b[1;31m---------------------------------------------------------------------------\u001b[0m",
      "\u001b[1;31mNameError\u001b[0m                                 Traceback (most recent call last)",
      "Cell \u001b[1;32mIn[80], line 1\u001b[0m\n\u001b[1;32m----> 1\u001b[0m f3\u001b[38;5;241m=\u001b[39m e4\n",
      "\u001b[1;31mNameError\u001b[0m: name 'e4' is not defined"
     ]
    }
   ],
   "source": [
    "f3= e4"
   ]
  },
  {
   "cell_type": "markdown",
   "id": "59f9c802-3e69-4599-a848-10b2446a463d",
   "metadata": {},
   "source": [
    " the expression f3 = e4 will result in an error because e4 is not a valid number or variable."
   ]
  },
  {
   "cell_type": "code",
   "execution_count": 76,
   "id": "a19040bb-11c1-4aae-a553-62ff27f9349f",
   "metadata": {},
   "outputs": [
    {
     "ename": "SyntaxError",
     "evalue": "invalid decimal literal (1576851277.py, line 1)",
     "output_type": "error",
     "traceback": [
      "\u001b[1;36m  Cell \u001b[1;32mIn[76], line 1\u001b[1;36m\u001b[0m\n\u001b[1;33m    f4=5e\u001b[0m\n\u001b[1;37m       ^\u001b[0m\n\u001b[1;31mSyntaxError\u001b[0m\u001b[1;31m:\u001b[0m invalid decimal literal\n"
     ]
    }
   ],
   "source": [
    "f4=5e"
   ]
  },
  {
   "cell_type": "markdown",
   "id": "2d4be590-b07a-4a1f-a6bf-626d5add4195",
   "metadata": {},
   "source": [
    "In your case, if you're trying to use 5e, you need to specify the exponent after the e, like 5e3 or any other integer. Let me know if you need more clarification!"
   ]
  },
  {
   "cell_type": "code",
   "execution_count": 82,
   "id": "36e11cbf-560f-4972-a92e-27242c8928f2",
   "metadata": {},
   "outputs": [
    {
     "data": {
      "text/plain": [
       "500.0"
      ]
     },
     "execution_count": 82,
     "metadata": {},
     "output_type": "execute_result"
    }
   ],
   "source": [
    "f5=5e2\n",
    "f5"
   ]
  },
  {
   "cell_type": "markdown",
   "id": "bc77482a-eb10-49a7-8710-368c3c78e10b",
   "metadata": {},
   "source": [
    "###### "
   ]
  },
  {
   "cell_type": "code",
   "execution_count": 86,
   "id": "a913e478-0c81-4c5e-8de1-5278a74f09fb",
   "metadata": {},
   "outputs": [
    {
     "data": {
      "text/plain": [
       "30.5"
      ]
     },
     "execution_count": 86,
     "metadata": {},
     "output_type": "execute_result"
    }
   ],
   "source": [
    "f6=f1*f2+f5+f+h*g\n",
    "f"
   ]
  },
  {
   "cell_type": "code",
   "execution_count": 88,
   "id": "58d84064-b091-43ac-ad57-c57ae78c6388",
   "metadata": {},
   "outputs": [
    {
     "data": {
      "text/plain": [
       "float"
      ]
     },
     "execution_count": 88,
     "metadata": {},
     "output_type": "execute_result"
    }
   ],
   "source": [
    "type(f6)"
   ]
  },
  {
   "cell_type": "code",
   "execution_count": null,
   "id": "8e0e5146-c107-4402-93c3-847bf3633eea",
   "metadata": {},
   "outputs": [],
   "source": [
    "\n"
   ]
  },
  {
   "cell_type": "markdown",
   "id": "6e703da5-e402-4f4d-9212-bbffb1f5b8dc",
   "metadata": {},
   "source": [
    "STRING\n"
   ]
  },
  {
   "cell_type": "markdown",
   "id": "1abc6e40-efaf-4a99-9125-f05d516c201d",
   "metadata": {},
   "source": [
    "A STRING IS A SEQUENCE OF CHARACTERS. PYTHON TREATS ANYTHING INSIDE QUOTES AS A STRING. THIS INCLUDES LETTERS , NUMBERS, & SYMBOLS"
   ]
  },
  {
   "cell_type": "markdown",
   "id": "127f07f6-7e6d-403f-ba66-d6ff1d22dcf9",
   "metadata": {},
   "source": [
    "A STRING COULD BE A SINGLE OR DOUBLE OR THRIBLE QUOTES ('',\"\",''' ''')"
   ]
  },
  {
   "cell_type": "code",
   "execution_count": 110,
   "id": "02fde4e3-63b0-4029-8cdb-258b904ea62f",
   "metadata": {},
   "outputs": [
    {
     "data": {
      "text/plain": [
       "'PRAVEEN'"
      ]
     },
     "execution_count": 110,
     "metadata": {},
     "output_type": "execute_result"
    }
   ],
   "source": [
    "A='''PRAVEEN'''\n",
    "A"
   ]
  },
  {
   "cell_type": "code",
   "execution_count": 112,
   "id": "8a6ffe2f-cdd5-44b5-b147-24049817e4a5",
   "metadata": {},
   "outputs": [
    {
     "data": {
      "text/plain": [
       "'SRI'"
      ]
     },
     "execution_count": 112,
     "metadata": {},
     "output_type": "execute_result"
    }
   ],
   "source": [
    "B='SRI'\n",
    "B"
   ]
  },
  {
   "cell_type": "code",
   "execution_count": 114,
   "id": "6473f5e5-2e65-4ed2-aabb-6ac3a0aed183",
   "metadata": {},
   "outputs": [
    {
     "data": {
      "text/plain": [
       "'SAI'"
      ]
     },
     "execution_count": 114,
     "metadata": {},
     "output_type": "execute_result"
    }
   ],
   "source": [
    "C=\"SAI\"\n",
    "C"
   ]
  },
  {
   "cell_type": "code",
   "execution_count": 128,
   "id": "a0750860-8988-4293-a4ac-4f97797acbe8",
   "metadata": {},
   "outputs": [
    {
     "ename": "SyntaxError",
     "evalue": "unterminated string literal (detected at line 1) (1231890369.py, line 1)",
     "output_type": "error",
     "traceback": [
      "\u001b[1;36m  Cell \u001b[1;32mIn[128], line 1\u001b[1;36m\u001b[0m\n\u001b[1;33m    D=''KATTA'\u001b[0m\n\u001b[1;37m             ^\u001b[0m\n\u001b[1;31mSyntaxError\u001b[0m\u001b[1;31m:\u001b[0m unterminated string literal (detected at line 1)\n"
     ]
    }
   ],
   "source": [
    " D=''KATTA' # STRING QUOTES MUST BE SAME "
   ]
  },
  {
   "cell_type": "code",
   "execution_count": 124,
   "id": "d51ba518-3cbd-4e41-a1d1-fc001a1dc537",
   "metadata": {},
   "outputs": [
    {
     "data": {
      "text/plain": [
       "'KATTA'"
      ]
     },
     "execution_count": 124,
     "metadata": {},
     "output_type": "execute_result"
    }
   ],
   "source": [
    "D='KATTA'\n",
    "D"
   ]
  },
  {
   "cell_type": "code",
   "execution_count": 136,
   "id": "f494290c-4eca-403a-8711-20fa0f4d3bde",
   "metadata": {},
   "outputs": [
    {
     "data": {
      "text/plain": [
       "'KATTASRISAIPRAVEEN'"
      ]
     },
     "execution_count": 136,
     "metadata": {},
     "output_type": "execute_result"
    }
   ],
   "source": [
    "FULL_NAME=D + B + C + A\n",
    "FULL_NAME"
   ]
  },
  {
   "cell_type": "code",
   "execution_count": 138,
   "id": "623deef4-e211-42e2-983e-c883820d152b",
   "metadata": {},
   "outputs": [
    {
     "data": {
      "text/plain": [
       "str"
      ]
     },
     "execution_count": 138,
     "metadata": {},
     "output_type": "execute_result"
    }
   ],
   "source": [
    "type(FULL_NAME)"
   ]
  },
  {
   "cell_type": "code",
   "execution_count": 140,
   "id": "431f52c3-f62c-400c-920b-fdbb5f47b24c",
   "metadata": {},
   "outputs": [
    {
     "name": "stdout",
     "output_type": "stream",
     "text": [
      "18\n"
     ]
    }
   ],
   "source": [
    "print(len(FULL_NAME))"
   ]
  },
  {
   "cell_type": "markdown",
   "id": "ff265f69-dc0d-421e-bee9-2351caff43d8",
   "metadata": {},
   "source": [
    "SINGLE QUOTES"
   ]
  },
  {
   "cell_type": "code",
   "execution_count": 142,
   "id": "79406183-5535-4915-bbfc-2a74132334e1",
   "metadata": {},
   "outputs": [
    {
     "data": {
      "text/plain": [
       "'A STRING IS A SEQUENCE OF CHARACTERS. PYTHON TREATS ANYTHING INSIDE QUOTES AS A STRING. THIS INCLUDES LETTERS , NUMBERS, & SYMBOLS'"
      ]
     },
     "execution_count": 142,
     "metadata": {},
     "output_type": "execute_result"
    }
   ],
   "source": [
    "s1=\"A STRING IS A SEQUENCE OF CHARACTERS. PYTHON TREATS ANYTHING INSIDE QUOTES AS A STRING. THIS INCLUDES LETTERS , NUMBERS, & SYMBOLS\"\n",
    "s1"
   ]
  },
  {
   "cell_type": "code",
   "execution_count": 166,
   "id": "e8d599e7-4f88-450e-8b7b-6108bc187789",
   "metadata": {},
   "outputs": [
    {
     "data": {
      "text/plain": [
       "'datascienceandGEN AI'"
      ]
     },
     "execution_count": 166,
     "metadata": {},
     "output_type": "execute_result"
    }
   ],
   "source": [
    "s2= 'data'   +   'science' +   'and' +   'GEN AI'\n",
    "s2"
   ]
  },
  {
   "cell_type": "markdown",
   "id": "5332405e-184d-49c2-baf9-f15a1c566449",
   "metadata": {},
   "source": [
    "MULTI QUOTES STRING"
   ]
  },
  {
   "cell_type": "code",
   "execution_count": 182,
   "id": "55e6aeac-bab1-4cbc-98b5-5da0b8077a15",
   "metadata": {},
   "outputs": [
    {
     "data": {
      "text/plain": [
       "' INTEGER IS A WHOLE NUMBER ,POSTIVE NUMBER,NEGATIVE NUMBER,WITHOUT DECIMAL'"
      ]
     },
     "execution_count": 182,
     "metadata": {},
     "output_type": "execute_result"
    }
   ],
   "source": [
    "s3 =''' INTEGER IS A WHOLE NUMBER ,POSTIVE NUMBER,NEGATIVE NUMBER,WITHOUT DECIMAL'''\n",
    "s3"
   ]
  },
  {
   "cell_type": "code",
   "execution_count": 184,
   "id": "23706f27-a494-4ce5-8654-238a62c6dee2",
   "metadata": {},
   "outputs": [
    {
     "ename": "SyntaxError",
     "evalue": "invalid syntax (4135222281.py, line 1)",
     "output_type": "error",
     "traceback": [
      "\u001b[1;36m  Cell \u001b[1;32mIn[184], line 1\u001b[1;36m\u001b[0m\n\u001b[1;33m    s4=\"\" FLOAT IS A DATA TYPE WHICH IS STORED IN POSTIVE AND NEGATIVE NUMBER WITH DECIMAL POINT\"\"\u001b[0m\n\u001b[1;37m          ^\u001b[0m\n\u001b[1;31mSyntaxError\u001b[0m\u001b[1;31m:\u001b[0m invalid syntax\n"
     ]
    }
   ],
   "source": [
    "s4=\"\" FLOAT IS A DATA TYPE WHICH IS STORED IN POSTIVE AND NEGATIVE NUMBER WITH DECIMAL POINT\"\"    #we cannot take two double quotes on start and ending\n",
    "s4"
   ]
  },
  {
   "cell_type": "code",
   "execution_count": null,
   "id": "3b457ba4-36dd-42ab-b0df-1ab85bd34275",
   "metadata": {},
   "outputs": [],
   "source": []
  },
  {
   "cell_type": "markdown",
   "id": "2c551b61-7523-4cdf-86e9-fa58e8c280fd",
   "metadata": {},
   "source": [
    "BOOLEAN"
   ]
  },
  {
   "cell_type": "markdown",
   "id": "3bb98861-c8ae-4cbc-ae85-0bfc542e3c53",
   "metadata": {},
   "source": [
    "BOOLEAN VARIABLE ONLY HAVE TWO VALUES THAT ARE {True and False}"
   ]
  },
  {
   "cell_type": "code",
   "execution_count": 187,
   "id": "b81f8abf-afdb-4d84-877d-8ec06e9d33b0",
   "metadata": {},
   "outputs": [
    {
     "data": {
      "text/plain": [
       "True"
      ]
     },
     "execution_count": 187,
     "metadata": {},
     "output_type": "execute_result"
    }
   ],
   "source": [
    "b1=True\n",
    "b1"
   ]
  },
  {
   "cell_type": "code",
   "execution_count": 189,
   "id": "48a1a8e4-c9e8-4cf5-abfa-f7aa20fa770f",
   "metadata": {},
   "outputs": [
    {
     "data": {
      "text/plain": [
       "False"
      ]
     },
     "execution_count": 189,
     "metadata": {},
     "output_type": "execute_result"
    }
   ],
   "source": [
    "b2=False\n",
    "b2"
   ]
  },
  {
   "cell_type": "code",
   "execution_count": 202,
   "id": "4ad87a6d-6da0-48ea-893a-cd890b2bbf96",
   "metadata": {},
   "outputs": [
    {
     "data": {
      "text/plain": [
       "1"
      ]
     },
     "execution_count": 202,
     "metadata": {},
     "output_type": "execute_result"
    }
   ],
   "source": [
    "b=b1+b2\n",
    "b"
   ]
  },
  {
   "cell_type": "code",
   "execution_count": 206,
   "id": "1fc2a3f5-d00d-4963-9bd0-8ef2a5655be6",
   "metadata": {},
   "outputs": [
    {
     "data": {
      "text/plain": [
       "2"
      ]
     },
     "execution_count": 206,
     "metadata": {},
     "output_type": "execute_result"
    }
   ],
   "source": [
    "b3=b1*b2+b1-b2+b\n",
    "b3"
   ]
  },
  {
   "cell_type": "code",
   "execution_count": 208,
   "id": "d99ce889-b17f-461c-82bf-63111e54d192",
   "metadata": {},
   "outputs": [
    {
     "data": {
      "text/plain": [
       "int"
      ]
     },
     "execution_count": 208,
     "metadata": {},
     "output_type": "execute_result"
    }
   ],
   "source": [
    "type(b)"
   ]
  },
  {
   "cell_type": "code",
   "execution_count": 210,
   "id": "19bcdae3-cd23-4f9c-a74b-2a9ef78b6149",
   "metadata": {},
   "outputs": [
    {
     "data": {
      "text/plain": [
       "bool"
      ]
     },
     "execution_count": 210,
     "metadata": {},
     "output_type": "execute_result"
    }
   ],
   "source": [
    "type (b1)"
   ]
  },
  {
   "cell_type": "code",
   "execution_count": 223,
   "id": "b64205c8-36e9-4663-90a3-a70646c8b14e",
   "metadata": {},
   "outputs": [],
   "source": [
    "b1=True\n",
    "b2=False\n",
    "b3=b1+b2"
   ]
  },
  {
   "cell_type": "code",
   "execution_count": 225,
   "id": "6d835d7f-e0b6-4ea6-91a3-46dad6945c11",
   "metadata": {},
   "outputs": [
    {
     "data": {
      "text/plain": [
       "1"
      ]
     },
     "execution_count": 225,
     "metadata": {},
     "output_type": "execute_result"
    }
   ],
   "source": [
    "b3"
   ]
  },
  {
   "cell_type": "code",
   "execution_count": 227,
   "id": "6ed5b7b2-3346-426e-af19-0870e30b1030",
   "metadata": {},
   "outputs": [
    {
     "data": {
      "text/plain": [
       "1"
      ]
     },
     "execution_count": 227,
     "metadata": {},
     "output_type": "execute_result"
    }
   ],
   "source": [
    "b1\n",
    "b2\n",
    "b3"
   ]
  },
  {
   "cell_type": "code",
   "execution_count": 229,
   "id": "c80fb34b-29c9-4afb-af16-5dc130e7f31f",
   "metadata": {},
   "outputs": [
    {
     "name": "stdout",
     "output_type": "stream",
     "text": [
      "True\n",
      "False\n",
      "1\n"
     ]
    }
   ],
   "source": [
    "print(b1)\n",
    "print(b2)\n",
    "print(b3)"
   ]
  },
  {
   "cell_type": "code",
   "execution_count": 233,
   "id": "4e1c0eea-95be-4dec-8775-619cfb5daf09",
   "metadata": {},
   "outputs": [
    {
     "data": {
      "text/plain": [
       "0"
      ]
     },
     "execution_count": 233,
     "metadata": {},
     "output_type": "execute_result"
    }
   ],
   "source": [
    "b5=b1*b2\n",
    "b5"
   ]
  },
  {
   "cell_type": "code",
   "execution_count": 257,
   "id": "75221c0e-1281-49fe-a1a8-28511fda1f51",
   "metadata": {},
   "outputs": [],
   "source": [
    "a='banana'\n",
    "b='pineapple'"
   ]
  },
  {
   "cell_type": "code",
   "execution_count": 263,
   "id": "bcf8a68e-416c-40a4-a0f9-b5d27251f0a2",
   "metadata": {},
   "outputs": [
    {
     "data": {
      "text/plain": [
       "6"
      ]
     },
     "execution_count": 263,
     "metadata": {},
     "output_type": "execute_result"
    }
   ],
   "source": [
    "len(a)"
   ]
  },
  {
   "cell_type": "code",
   "execution_count": 265,
   "id": "1075bb43-68fe-4bfe-afcd-a14195800331",
   "metadata": {},
   "outputs": [
    {
     "data": {
      "text/plain": [
       "9"
      ]
     },
     "execution_count": 265,
     "metadata": {},
     "output_type": "execute_result"
    }
   ],
   "source": [
    "len(b)"
   ]
  },
  {
   "cell_type": "code",
   "execution_count": 247,
   "id": "9c6c2207-671b-4229-9497-5582ac7094a0",
   "metadata": {},
   "outputs": [
    {
     "data": {
      "text/plain": [
       "True"
      ]
     },
     "execution_count": 247,
     "metadata": {},
     "output_type": "execute_result"
    }
   ],
   "source": [
    "len(a)<len(b)"
   ]
  },
  {
   "cell_type": "code",
   "execution_count": 249,
   "id": "58016121-ca37-4ead-abe2-e80ba5b984e8",
   "metadata": {},
   "outputs": [
    {
     "data": {
      "text/plain": [
       "False"
      ]
     },
     "execution_count": 249,
     "metadata": {},
     "output_type": "execute_result"
    }
   ],
   "source": [
    "len(a)>len(b)"
   ]
  },
  {
   "cell_type": "code",
   "execution_count": 255,
   "id": "8ca8c751-2871-448a-9cf8-8c303cd938da",
   "metadata": {},
   "outputs": [
    {
     "data": {
      "text/plain": [
       "0"
      ]
     },
     "execution_count": 255,
     "metadata": {},
     "output_type": "execute_result"
    }
   ],
   "source": [
    "len(a)>>len(b)"
   ]
  },
  {
   "cell_type": "code",
   "execution_count": null,
   "id": "9e0c4fe0-46b1-4e00-bde1-15717d2fe897",
   "metadata": {},
   "outputs": [],
   "source": []
  },
  {
   "cell_type": "markdown",
   "id": "116456ee-81f8-4a5e-9148-8b6ca2b8dbed",
   "metadata": {},
   "source": [
    "COMPLEX"
   ]
  },
  {
   "cell_type": "markdown",
   "id": "ccf001a9-bc5d-40ef-9aea-f524cce93bf9",
   "metadata": {},
   "source": [
    "COMPLEX HAS TWO VALUES THE FIRST ONE IS CALLED REAL PART AND THE SECOND ONE IS CALLED IMAGINARY PART   a+bj,a-bj\n",
    "a=real part , b= imaginary part and also j= square root of minus one"
   ]
  },
  {
   "cell_type": "code",
   "execution_count": 282,
   "id": "10d40c15-29d4-42ef-b752-a8511ef6f78c",
   "metadata": {},
   "outputs": [
    {
     "data": {
      "text/plain": [
       "(35+120j)"
      ]
     },
     "execution_count": 282,
     "metadata": {},
     "output_type": "execute_result"
    }
   ],
   "source": [
    "c1=35+120j\n",
    "c1"
   ]
  },
  {
   "cell_type": "code",
   "execution_count": 284,
   "id": "3a935672-2ba8-47de-b2ac-ac794058aea9",
   "metadata": {},
   "outputs": [
    {
     "data": {
      "text/plain": [
       "complex"
      ]
     },
     "execution_count": 284,
     "metadata": {},
     "output_type": "execute_result"
    }
   ],
   "source": [
    "type(c1)"
   ]
  },
  {
   "cell_type": "code",
   "execution_count": 288,
   "id": "9deb093c-3919-46c3-a1c9-c27e06f1fb62",
   "metadata": {},
   "outputs": [
    {
     "data": {
      "text/plain": [
       "35.0"
      ]
     },
     "execution_count": 288,
     "metadata": {},
     "output_type": "execute_result"
    }
   ],
   "source": [
    "c1.real"
   ]
  },
  {
   "cell_type": "code",
   "execution_count": 290,
   "id": "735e567b-ebb8-4fcf-a072-8835be341807",
   "metadata": {},
   "outputs": [
    {
     "data": {
      "text/plain": [
       "120.0"
      ]
     },
     "execution_count": 290,
     "metadata": {},
     "output_type": "execute_result"
    }
   ],
   "source": [
    "c1.imag"
   ]
  },
  {
   "cell_type": "code",
   "execution_count": 292,
   "id": "c5166f59-eb0a-4aa1-a775-4ea0642abe6f",
   "metadata": {},
   "outputs": [
    {
     "data": {
      "text/plain": [
       "(2-10j)"
      ]
     },
     "execution_count": 292,
     "metadata": {},
     "output_type": "execute_result"
    }
   ],
   "source": [
    "c2=2-10j\n",
    "c2"
   ]
  },
  {
   "cell_type": "code",
   "execution_count": 294,
   "id": "eba9d93e-99da-40da-9159-0011686a7957",
   "metadata": {},
   "outputs": [
    {
     "name": "stdout",
     "output_type": "stream",
     "text": [
      "2.0\n",
      "-10.0\n"
     ]
    }
   ],
   "source": [
    "print(c2.real)\n",
    "print(c2.imag)"
   ]
  },
  {
   "cell_type": "code",
   "execution_count": 296,
   "id": "f21d47f9-8c24-40a8-9050-09fd1fb1a912",
   "metadata": {},
   "outputs": [],
   "source": [
    "c3=c1+c2"
   ]
  },
  {
   "cell_type": "code",
   "execution_count": 298,
   "id": "12a4214b-9650-4184-b06f-763f1b13cae9",
   "metadata": {},
   "outputs": [
    {
     "data": {
      "text/plain": [
       "(37+110j)"
      ]
     },
     "execution_count": 298,
     "metadata": {},
     "output_type": "execute_result"
    }
   ],
   "source": [
    "c3"
   ]
  },
  {
   "cell_type": "code",
   "execution_count": 302,
   "id": "f6dbe13c-b869-4c30-b93b-87a690a16aa1",
   "metadata": {},
   "outputs": [
    {
     "data": {
      "text/plain": [
       "(-1026.0576923076924-985.2884615384615j)"
      ]
     },
     "execution_count": 302,
     "metadata": {},
     "output_type": "execute_result"
    }
   ],
   "source": [
    "c4=c1*c3 /c2\n",
    "c4"
   ]
  },
  {
   "cell_type": "code",
   "execution_count": 304,
   "id": "50ab9437-b267-4c3d-98e9-da7eaa52a917",
   "metadata": {},
   "outputs": [
    {
     "data": {
      "text/plain": [
       "complex"
      ]
     },
     "execution_count": 304,
     "metadata": {},
     "output_type": "execute_result"
    }
   ],
   "source": [
    "type(c4)"
   ]
  },
  {
   "cell_type": "code",
   "execution_count": null,
   "id": "a3dec7ec-ca46-44e6-be9b-75da77d05adf",
   "metadata": {},
   "outputs": [],
   "source": []
  },
  {
   "cell_type": "code",
   "execution_count": null,
   "id": "ac0f2f9b-efe3-434c-978d-19eff482f541",
   "metadata": {},
   "outputs": [],
   "source": []
  }
 ],
 "metadata": {
  "kernelspec": {
   "display_name": "Python [conda env:base] *",
   "language": "python",
   "name": "conda-base-py"
  },
  "language_info": {
   "codemirror_mode": {
    "name": "ipython",
    "version": 3
   },
   "file_extension": ".py",
   "mimetype": "text/x-python",
   "name": "python",
   "nbconvert_exporter": "python",
   "pygments_lexer": "ipython3",
   "version": "3.12.7"
  }
 },
 "nbformat": 4,
 "nbformat_minor": 5
}
